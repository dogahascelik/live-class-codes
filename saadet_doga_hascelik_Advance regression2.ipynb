{
 "cells": [
  {
   "cell_type": "code",
   "execution_count": 2,
   "id": "21c5874a-3a6d-4ba1-bb42-67dc08650f6d",
   "metadata": {},
   "outputs": [],
   "source": [
    "import numpy as np\n",
    "import pandas as pd\n",
    "import matplotlib.pyplot as plt"
   ]
  },
  {
   "cell_type": "code",
   "execution_count": 3,
   "id": "3f14ba15-d76a-47c8-b082-998d87760a7e",
   "metadata": {},
   "outputs": [],
   "source": [
    "# https://www.statsmodels.org/stable/index.html\n",
    "import statsmodels.api as sm"
   ]
  },
  {
   "cell_type": "code",
   "execution_count": 4,
   "id": "2be5b5e8-503f-48e3-97ed-d3dfaf9a3230",
   "metadata": {},
   "outputs": [],
   "source": [
    "import warnings\n",
    "warnings.filterwarnings(\"ignore\")"
   ]
  },
  {
   "cell_type": "code",
   "execution_count": 5,
   "id": "eb1722cb-dce0-468b-8d10-787566705260",
   "metadata": {},
   "outputs": [],
   "source": [
    "from functools import partial"
   ]
  },
  {
   "cell_type": "code",
   "execution_count": 6,
   "id": "50291052-2f4f-43ba-92d8-fc9ac4bc04d0",
   "metadata": {},
   "outputs": [
    {
     "ename": "ModuleNotFoundError",
     "evalue": "No module named 'jrjModelRegistry'",
     "output_type": "error",
     "traceback": [
      "\u001b[31m---------------------------------------------------------------------------\u001b[39m",
      "\u001b[31mModuleNotFoundError\u001b[39m                       Traceback (most recent call last)",
      "\u001b[36mCell\u001b[39m\u001b[36m \u001b[39m\u001b[32mIn[6]\u001b[39m\u001b[32m, line 10\u001b[39m\n\u001b[32m      8\u001b[39m     \u001b[38;5;28mprint\u001b[39m(\u001b[33m'\u001b[39m\u001b[33menvs Loaded\u001b[39m\u001b[33m'\u001b[39m)\n\u001b[32m      9\u001b[39m     load_dotenv(dotenv_path=env_path)\n\u001b[32m---> \u001b[39m\u001b[32m10\u001b[39m \u001b[38;5;28;01mfrom\u001b[39;00m\u001b[38;5;250m \u001b[39m\u001b[34;01mjrjModelRegistry\u001b[39;00m\u001b[34;01m.\u001b[39;00m\u001b[34;01mjrjModelRegistry\u001b[39;00m\u001b[38;5;250m \u001b[39m\u001b[38;5;28;01mimport\u001b[39;00m registerAJrjModel\n",
      "\u001b[31mModuleNotFoundError\u001b[39m: No module named 'jrjModelRegistry'"
     ]
    }
   ],
   "source": [
    "from dotenv import load_dotenv\n",
    "\n",
    "from pathlib import Path\n",
    "\n",
    "env_path = Path(\"../../.env-live\")\n",
    "\n",
    "if env_path.exists():\n",
    "    print('envs Loaded')\n",
    "    load_dotenv(dotenv_path=env_path)\n",
    "from jrjModelRegistry.jrjModelRegistry import registerAJrjModel"
   ]
  },
  {
   "cell_type": "code",
   "execution_count": null,
   "id": "a04a4264-30c4-47bf-ac2a-fc49016fbd5b",
   "metadata": {},
   "outputs": [],
   "source": [
    "def generalRegressionPredictor(self, transformedData):\n",
    "    return self.predict(transformedData)"
   ]
  },
  {
   "cell_type": "code",
   "execution_count": null,
   "id": "be2dfbe0-14a7-4097-ab8a-83ec6e8adaa7",
   "metadata": {},
   "outputs": [],
   "source": [
    "wagesDf = pd.read_excel(\"./Wages.xlsx\")\n",
    "# wagesDf = pd.read_excel(\"https://www.dropbox.com/scl/fi/v7c1c8a3cnncuv1fo28es/Wages.xlsx?rlkey=vli12nwph687hvn9jskgf73a1&st=s862pfm6&dl=1\")\n",
    "wagesDf"
   ]
  },
  {
   "cell_type": "code",
   "execution_count": null,
   "id": "22701f4c-226c-471a-a5ba-7beb749db11f",
   "metadata": {},
   "outputs": [],
   "source": [
    "wagesDf.size"
   ]
  },
  {
   "cell_type": "code",
   "execution_count": null,
   "id": "82d7273b-3ed2-44df-abea-037215350c91",
   "metadata": {},
   "outputs": [],
   "source": [
    "wagesDf.describe()"
   ]
  },
  {
   "cell_type": "code",
   "execution_count": null,
   "id": "8df5d716-3ccf-4541-a4f3-9c1ad0570b91",
   "metadata": {},
   "outputs": [],
   "source": [
    "wagesDf.shape"
   ]
  },
  {
   "cell_type": "code",
   "execution_count": null,
   "id": "997ed8fa-cf29-4e1b-b7c4-f418c6c7f84e",
   "metadata": {},
   "outputs": [],
   "source": [
    "# Plotting\n",
    "fig1 = plt.figure(\n",
    "  figsize=(8, 8)\n",
    ")"
   ]
  },
  {
   "cell_type": "code",
   "execution_count": null,
   "id": "22b983cf-b4af-42d1-a98a-9504aa9fa2ae",
   "metadata": {},
   "outputs": [],
   "source": [
    "plt.scatter(\n",
    "  wagesDf[\"Educ\"],\n",
    "  wagesDf[\"Wage\"],\n",
    "  color='blue',\n",
    "  alpha=0.9,\n",
    "  label='Data Points - scatter',\n",
    ")\n",
    "\n",
    "\n",
    "plt.title('Education Level vs. Wage with OLS Regression')\n",
    "plt.xlabel('Education Level(yr)')\n",
    "plt.ylabel('Wage K')\n",
    "plt.legend()\n",
    "plt.grid(True)\n",
    "\n",
    "\n",
    "\n",
    "plt.show()"
   ]
  },
  {
   "cell_type": "code",
   "execution_count": null,
   "id": "46a42dbe-9d04-46f4-8b62-cdb935ed662c",
   "metadata": {},
   "outputs": [],
   "source": [
    "def wageModel1Transformer(dataForTransfer = None):\n",
    "    import pandas as pd\n",
    "    import statsmodels.api as sm\n",
    "    if isinstance(dataForTransfer, pd.DataFrame):\n",
    "        df = dataForTransfer.copy()\n",
    "    else:\n",
    "        df = pd.DataFrame(dataForTransfer)\n",
    "    dfTransformer = sm.add_constant(df[['Educ']],has_constant='add')\n",
    "    return dfTransformer"
   ]
  },
  {
   "cell_type": "code",
   "execution_count": null,
   "id": "aecdf241-4b0e-41cd-843c-dcc4917086df",
   "metadata": {},
   "outputs": [],
   "source": [
    "wageModel1 = sm.OLS(\n",
    "  wagesDf[\"Wage\"],\n",
    "  wageModel1Transformer(wagesDf)\n",
    ")\n",
    "wageModel1Fit = wageModel1.fit()\n",
    "print(wageModel1Fit.summary())"
   ]
  },
  {
   "cell_type": "code",
   "execution_count": null,
   "id": "e62cc4ef-b31c-427d-baf1-801efe9d0028",
   "metadata": {},
   "outputs": [],
   "source": [
    "wage1SampleData = {\n",
    "    \"Educ\": [12],\n",
    "    \"Age\": [76]\n",
    "}"
   ]
  },
  {
   "cell_type": "code",
   "execution_count": null,
   "id": "518f09cc-2834-4e02-b4c0-0bf93466cbc3",
   "metadata": {},
   "outputs": [],
   "source": [
    "\n",
    "wageModel1Fit.transformer = wageModel1Transformer\n",
    "wageModel1Fit.mainPredictor = partial(generalRegressionPredictor, wageModel1Fit)\n",
    "registerAJrjModel(\n",
    "    wageModel1Fit,\n",
    "    {\n",
    "        \"modelName\":f\"saadet_doga_hascelik__wageModel1Fit\",\n",
    "        \"version\":\"1.0.1\",\n",
    "        \"params\": wageModel1Fit.params.to_dict(),\n",
    "        \"score\": float(wageModel1Fit.rsquared),\n",
    "        \"modelLibraray\": 'sm.OLS',\n",
    "        \"libraryMetadata\": {\n",
    "            \"pvalues\": wageModel1Fit.pvalues.to_dict(),\n",
    "            \"r_squared\": float(wageModel1Fit.rsquared),\n",
    "            \"adj_r_squared\": float(wageModel1Fit.rsquared_adj)\n",
    "        },\n",
    "    \n",
    "        \"sampleData\": {\n",
    "            \"dataForTransfer\": wage1SampleData\n",
    "        }\n",
    "    }\n",
    ")"
   ]
  },
  {
   "cell_type": "code",
   "execution_count": null,
   "id": "a70f2a2c-c3ab-4e72-9934-dea5b0d15ed5",
   "metadata": {},
   "outputs": [],
   "source": [
    "predictedWage1 = wageModel1Fit.predict(wageModel1Transformer(wagesDf))\n",
    "wagesDf['predictedWage1'] = predictedWage1\n",
    "wagesDf"
   ]
  },
  {
   "cell_type": "code",
   "execution_count": null,
   "id": "74b378a1-7968-41e9-a995-0106cea3723e",
   "metadata": {},
   "outputs": [],
   "source": [
    "plt.scatter(\n",
    "  wagesDf[\"Educ\"],\n",
    "  wagesDf[\"Wage\"],\n",
    "  color='blue',\n",
    "  alpha=0.9,\n",
    "  label='Data Points - scatter',\n",
    ")\n",
    "\n",
    "plt.plot(\n",
    "  wagesDf[\"Educ\"],\n",
    "  wagesDf[\"predictedWage1\"],\n",
    "  color='red',\n",
    "  label='OLS Regression - predictedWage1'\n",
    ")\n",
    "plt.title('Educ Level vs. Wage with OLS Regression')\n",
    "plt.xlabel('Educ Level(yr)')\n",
    "plt.ylabel('Wage K')\n",
    "plt.legend()\n",
    "plt.grid(True)\n",
    "\n",
    "\n",
    "plt.show()"
   ]
  },
  {
   "cell_type": "code",
   "execution_count": null,
   "id": "f5e09acb-90dc-4d76-b3ad-50556d1d87f1",
   "metadata": {},
   "outputs": [],
   "source": [
    "plt.scatter(\n",
    "  wagesDf[\"Age\"],\n",
    "  wagesDf[\"Wage\"],\n",
    "  color='blue',\n",
    "  alpha=0.9,\n",
    "  label='Data Points - scatter',\n",
    ")\n",
    "\n",
    "\n",
    "plt.title('Age vs. Wage with OLS Regression')\n",
    "plt.xlabel('Age')\n",
    "plt.ylabel('Wage K')\n",
    "plt.legend()\n",
    "plt.grid(True)\n",
    "\n",
    "\n",
    "\n",
    "plt.show()"
   ]
  },
  {
   "cell_type": "code",
   "execution_count": null,
   "id": "8907b83f-2fd3-4791-8cff-d872a3a7449e",
   "metadata": {},
   "outputs": [],
   "source": [
    "def wageModel2Transformer(dataForTransfer = None):\n",
    "    import pandas as pd\n",
    "    import statsmodels.api as sm\n",
    "    if isinstance(dataForTransfer, pd.DataFrame):\n",
    "        df = dataForTransfer.copy()\n",
    "    else:\n",
    "        df = pd.DataFrame(dataForTransfer)\n",
    "    dfTransformer = sm.add_constant(df[['Age']],has_constant='add')\n",
    "    return dfTransformer"
   ]
  },
  {
   "cell_type": "code",
   "execution_count": null,
   "id": "ccc61268-9969-4fa1-836d-57ebc6d3ee7d",
   "metadata": {},
   "outputs": [],
   "source": [
    "wageModel2 = sm.OLS(\n",
    "  wagesDf[\"Wage\"],\n",
    "  wageModel2Transformer(wagesDf)\n",
    ")\n",
    "wageModel2Fit = wageModel2.fit()\n",
    "print(wageModel2Fit.summary())"
   ]
  },
  {
   "cell_type": "code",
   "execution_count": null,
   "id": "ea87ddd4-c3ee-4aab-81c2-b574c2034807",
   "metadata": {},
   "outputs": [],
   "source": [
    "wageModel2Fit.transformer = wageModel2Transformer\n",
    "wageModel2Fit.mainPredictor = partial(generalRegressionPredictor, wageModel2Fit)\n",
    "registerAJrjModel(\n",
    "    wageModel2Fit,\n",
    "    {\n",
    "        \"modelName\":f\"saadet_doga_hascelik__wageModel2Fit\",\n",
    "        \"version\":\"1.0.1\",\n",
    "        \"params\": wageModel2Fit.params.to_dict(),\n",
    "        \"score\": float(wageModel2Fit.rsquared),\n",
    "        \"modelLibraray\": 'sm.OLS',\n",
    "        \"libraryMetadata\": {\n",
    "            \"pvalues\": wageModel2Fit.pvalues.to_dict(),\n",
    "            \"r_squared\": float(wageModel2Fit.rsquared),\n",
    "            \"adj_r_squared\": float(wageModel2Fit.rsquared_adj)\n",
    "        },\n",
    "    \n",
    "        \"sampleData\": {\n",
    "            \"dataForTransfer\": wage1SampleData\n",
    "        }\n",
    "    }\n",
    ")"
   ]
  },
  {
   "cell_type": "code",
   "execution_count": null,
   "id": "4bcdeae9-0d20-4a1e-ae2e-78cf08ec7828",
   "metadata": {},
   "outputs": [],
   "source": [
    "predictedWage2 = wageModel2Fit.predict(wageModel2Transformer(wagesDf))\n",
    "wagesDf['predictedWage2'] = predictedWage2\n",
    "wagesDf"
   ]
  },
  {
   "cell_type": "code",
   "execution_count": null,
   "id": "482af90f-620d-4f1b-adf7-4c2ad6595bdb",
   "metadata": {},
   "outputs": [],
   "source": [
    "# Plotting\n",
    "plt.figure(\n",
    "  figsize=(8, 8)\n",
    ")\n",
    "\n",
    "plt.scatter(\n",
    "  wagesDf[\"Age\"],\n",
    "  wagesDf[\"Wage\"],\n",
    "  color='blue',\n",
    "  alpha=0.9,\n",
    "  label='Data Points - scatter',\n",
    ")\n",
    "\n",
    "plt.plot(\n",
    "  wagesDf[\"Age\"],\n",
    "  wagesDf[\"predictedWage2\"],\n",
    "  color='red',\n",
    "  label='OLS Regression - predictedWage2'\n",
    ")\n",
    "plt.title('Age. Wage with OLS Regression')\n",
    "plt.xlabel('Age')\n",
    "plt.ylabel('Wage K')\n",
    "plt.legend()\n",
    "plt.grid(True)\n",
    "\n",
    "\n",
    "\n",
    "plt.show()"
   ]
  },
  {
   "cell_type": "code",
   "execution_count": null,
   "id": "c31252c7-6344-40c0-b826-f317dc300c86",
   "metadata": {},
   "outputs": [],
   "source": [
    "def wageModel3Transformer(dataForTransfer = None):\n",
    "    import pandas as pd\n",
    "    import statsmodels.api as sm\n",
    "    if isinstance(dataForTransfer, pd.DataFrame):\n",
    "        df = dataForTransfer.copy()\n",
    "    else:\n",
    "        df = pd.DataFrame(dataForTransfer)\n",
    "    df['agePower2'] = df.apply(lambda row: row['Age'] * row['Age'], axis=1)\n",
    "    dfTransformer = sm.add_constant(df[['Age', 'agePower2']],has_constant='add')\n",
    "    return dfTransformer"
   ]
  },
  {
   "cell_type": "code",
   "execution_count": null,
   "id": "f4e78004-c645-4425-902b-1dca5ba94f3c",
   "metadata": {},
   "outputs": [],
   "source": [
    "wageModel3 = sm.OLS(\n",
    "  wagesDf[\"Wage\"],\n",
    "  wageModel3Transformer(wagesDf)\n",
    ")\n",
    "wageModel3Fit = wageModel3.fit()\n",
    "print(wageModel3Fit.summary())"
   ]
  },
  {
   "cell_type": "code",
   "execution_count": null,
   "id": "f8c9a80b-ed6d-49cc-bf67-9e6dc43faf46",
   "metadata": {},
   "outputs": [],
   "source": [
    "wageModel3Fit.transformer = wageModel3Transformer\n",
    "wageModel3Fit.mainPredictor = partial(generalRegressionPredictor, wageModel3Fit)\n",
    "registerAJrjModel(\n",
    "    wageModel3Fit,\n",
    "    {\n",
    "        \"modelName\":f\"saadet_doga_hascelik__wageModel3Fit\",\n",
    "        \"version\":\"1.0.1\",\n",
    "        \"params\": wageModel3Fit.params.to_dict(),\n",
    "        \"score\": float(wageModel3Fit.rsquared),\n",
    "        \"modelLibraray\": 'sm.OLS',\n",
    "        \"libraryMetadata\": {\n",
    "            \"pvalues\": wageModel3Fit.pvalues.to_dict(),\n",
    "            \"r_squared\": float(wageModel3Fit.rsquared),\n",
    "            \"adj_r_squared\": float(wageModel3Fit.rsquared_adj)\n",
    "        },\n",
    "    \n",
    "        \"sampleData\": {\n",
    "            \"dataForTransfer\": wage1SampleData\n",
    "        }\n",
    "    }\n",
    ")"
   ]
  },
  {
   "cell_type": "code",
   "execution_count": null,
   "id": "1049c0ab-3a7b-4398-9ef7-a38b3d04d3a8",
   "metadata": {},
   "outputs": [],
   "source": [
    "predictedWage3 = wageModel3Fit.predict(wageModel3Transformer(wagesDf))\n",
    "wagesDf['predictedWage3'] = predictedWage3\n",
    "wagesDf"
   ]
  },
  {
   "cell_type": "code",
   "execution_count": null,
   "id": "4d06333d-b48b-4e88-9844-b529c93ea27f",
   "metadata": {},
   "outputs": [],
   "source": [
    "wagesDf = wagesDf.sort_values(by=\"Age\")"
   ]
  },
  {
   "cell_type": "code",
   "execution_count": null,
   "id": "bdd5d906-10d6-4c8f-857e-c294be83677d",
   "metadata": {},
   "outputs": [],
   "source": [
    "# Plotting\n",
    "plt.figure(\n",
    "  figsize=(8, 8)\n",
    ")\n",
    "\n",
    "plt.scatter(\n",
    "  wagesDf[\"Age\"],\n",
    "  wagesDf[\"Wage\"],\n",
    "  color='blue',\n",
    "  alpha=0.9,\n",
    "  label='Data Points - scatter',\n",
    ")\n",
    "\n",
    "plt.plot(\n",
    "  wagesDf[\"Age\"],\n",
    "  wagesDf[\"predictedWage2\"],\n",
    "  color='red',\n",
    "  label='OLS Regression - predictedWage2'\n",
    ")\n",
    "\n",
    "plt.plot(\n",
    "  wagesDf[\"Age\"],\n",
    "  wagesDf[\"predictedWage3\"],\n",
    "  color='green',\n",
    "  label='OLS Regression - predictedWage3'\n",
    ")\n",
    "plt.title('Age. Wage with OLS Regression')\n",
    "plt.xlabel('Age')\n",
    "plt.ylabel('Wage K')\n",
    "plt.legend()\n",
    "plt.grid(True)\n",
    "\n",
    "\n",
    "\n",
    "plt.show()"
   ]
  },
  {
   "cell_type": "code",
   "execution_count": null,
   "id": "2b2eafcf-7063-4063-8d29-e7aeb9dc03b0",
   "metadata": {},
   "outputs": [],
   "source": [
    "wagesDf"
   ]
  },
  {
   "cell_type": "code",
   "execution_count": null,
   "id": "9321a7a4-a73b-4a3a-a526-c207fd810b03",
   "metadata": {},
   "outputs": [],
   "source": [
    "fig = plt.figure()\n",
    "ax = plt.axes(projection =\"3d\")\n",
    "\n",
    "# Creating plot\n",
    "ax.scatter3D(\n",
    "  wagesDf[\"Age\"],\n",
    "  wagesDf[\"Educ\"],\n",
    "  wagesDf[\"Wage\"],\n",
    "  color = \"green\"\n",
    ")\n",
    "plt.title(\"Cost,Grad -> Wage\")\n",
    "ax.set_xlabel('Age')\n",
    "ax.set_ylabel('Educ')\n",
    "ax.set_zlabel('Wage')\n",
    "\n",
    "# show plot\n",
    "plt.show()"
   ]
  },
  {
   "cell_type": "code",
   "execution_count": null,
   "id": "2243ba96-5abd-4c62-9f85-b01732d76949",
   "metadata": {},
   "outputs": [],
   "source": [
    "def wageModel4Transformer(dataForTransfer = None):\n",
    "    import pandas as pd\n",
    "    import statsmodels.api as sm\n",
    "    if isinstance(dataForTransfer, pd.DataFrame):\n",
    "        df = dataForTransfer.copy()\n",
    "    else:\n",
    "        df = pd.DataFrame(dataForTransfer)\n",
    "    dfTransformer = sm.add_constant(df[['Educ','Age']],has_constant='add')\n",
    "    return dfTransformer"
   ]
  },
  {
   "cell_type": "code",
   "execution_count": null,
   "id": "f5636fda-a710-4532-9bd3-8bc3bace0c31",
   "metadata": {},
   "outputs": [],
   "source": [
    "wageModel4 = sm.OLS(\n",
    "  wagesDf[\"Wage\"],\n",
    "  wageModel4Transformer(wagesDf)\n",
    ")\n",
    "wageModel4Fit = wageModel4.fit()\n",
    "print(wageModel4Fit.summary())"
   ]
  },
  {
   "cell_type": "code",
   "execution_count": null,
   "id": "16c4436a-f73f-4dbb-9d5d-d12bdc404b03",
   "metadata": {},
   "outputs": [],
   "source": [
    "wageModel4Fit.transformer = wageModel4Transformer\n",
    "wageModel4Fit.mainPredictor = partial(generalRegressionPredictor, wageModel4Fit)\n",
    "registerAJrjModel(\n",
    "    wageModel4Fit,\n",
    "    {\n",
    "        \"modelName\":f\"saadet_doga_hascelik__wageModel4Fit\",\n",
    "        \"version\":\"1.0.1\",\n",
    "        \"params\": wageModel4Fit.params.to_dict(),\n",
    "        \"score\": float(wageModel4Fit.rsquared),\n",
    "        \"modelLibraray\": 'sm.OLS',\n",
    "        \"libraryMetadata\": {\n",
    "            \"pvalues\": wageModel4Fit.pvalues.to_dict(),\n",
    "            \"r_squared\": float(wageModel4Fit.rsquared),\n",
    "            \"adj_r_squared\": float(wageModel4Fit.rsquared_adj)\n",
    "        },\n",
    "    \n",
    "        \"sampleData\": {\n",
    "            \"dataForTransfer\": wage1SampleData\n",
    "        }\n",
    "    }\n",
    ")"
   ]
  },
  {
   "cell_type": "code",
   "execution_count": null,
   "id": "d7ad166b-fd76-468b-b9f7-aa04d1561e5a",
   "metadata": {},
   "outputs": [],
   "source": [
    "predictedWage4 = wageModel4Fit.predict(\n",
    "  wageModel4Transformer(wagesDf)\n",
    ")\n",
    "wagesDf['predictedWage4'] = predictedWage4\n",
    "wagesDf"
   ]
  },
  {
   "cell_type": "code",
   "execution_count": null,
   "id": "5d65f0dc-b437-4a9b-9563-99a5532192d4",
   "metadata": {},
   "outputs": [],
   "source": [
    "# Extracting coefficients\n",
    "intercept = wageModel4Fit.params['const']\n",
    "coefAge = wageModel4Fit.params['Age']\n",
    "coefEduc = wageModel4Fit.params['Educ']\n",
    "\n",
    "# Create 3D grid for plotting\n",
    "ageRange = np.linspace(wagesDf['Age'].min(), wagesDf['Age'].max(), 100)\n",
    "educRange = np.linspace(wagesDf['Educ'].min(), wagesDf['Educ'].max(), 100)\n",
    "ageGrid, educGrid = np.meshgrid(ageRange, educRange)\n",
    "\n",
    "# Calculate predicted Wage for each combination of Age and Educ\n",
    "wagePredictEq = intercept + coefAge * ageGrid + coefEduc * educGrid\n",
    "\n",
    "\n",
    "\n",
    "\n",
    "fig = plt.figure()\n",
    "ax = plt.axes(projection =\"3d\")\n",
    "\n",
    "# Scatter plot of the actual data points\n",
    "ax.scatter(wagesDf['Age'], wagesDf['Educ'], wagesDf['Wage'], color='blue', label='Actual Wage')\n",
    "\n",
    "# Plotting the fitted plane\n",
    "ax.plot_surface(ageGrid, educGrid, wagePredictEq, color='red', alpha=0.5, label='Fitted Plane')\n",
    "\n",
    "# Labeling axes\n",
    "ax.set_xlabel('Age')\n",
    "ax.set_ylabel('Educ')\n",
    "ax.set_zlabel('Wage')\n",
    "\n",
    "\n",
    "\n",
    "plt.title('Age and Educ vs. Wage with Fitted Plane')\n",
    "\n",
    "# Rotating the plot\n",
    "# ax.view_init(elev=45, azim=45)  # Set the elevation and azimuth angles\n",
    "plt.show()\n"
   ]
  },
  {
   "cell_type": "code",
   "execution_count": null,
   "id": "3df65fc2-aca5-47aa-a28a-9d7b7899874c",
   "metadata": {},
   "outputs": [],
   "source": [
    "def wageModel5Transformer(dataForTransfer = None):\n",
    "    import pandas as pd\n",
    "    import statsmodels.api as sm\n",
    "    if isinstance(dataForTransfer, pd.DataFrame):\n",
    "        df = dataForTransfer.copy()\n",
    "    else:\n",
    "        df = pd.DataFrame(dataForTransfer)\n",
    "    df['agePower2'] = df.apply(lambda row: row['Age'] * row['Age'], axis=1)\n",
    "    dfTransformer = sm.add_constant(df[['Educ','Age', 'agePower2']],has_constant='add')\n",
    "    return dfTransformer\n",
    "wageModel5 = sm.OLS(\n",
    "  wagesDf[\"Wage\"],\n",
    "  wageModel5Transformer(wagesDf)\n",
    ")\n",
    "wageModel5Fit = wageModel5.fit()\n",
    "print(wageModel5Fit.summary())"
   ]
  },
  {
   "cell_type": "code",
   "execution_count": null,
   "id": "25c9bcdf-c181-425d-b5bc-8a3ab49be44b",
   "metadata": {},
   "outputs": [],
   "source": [
    "wageModel5Fit.transformer = wageModel5Transformer\n",
    "wageModel5Fit.mainPredictor = partial(generalRegressionPredictor, wageModel5Fit)\n",
    "registerAJrjModel(\n",
    "    wageModel5Fit,\n",
    "    {\n",
    "        \"modelName\":f\"saadet_doga_hascelik__wageModel5Fit\",\n",
    "        \"version\":\"1.0.1\",\n",
    "        \"params\": wageModel5Fit.params.to_dict(),\n",
    "        \"score\": float(wageModel5Fit.rsquared),\n",
    "        \"modelLibraray\": 'sm.OLS',\n",
    "        \"libraryMetadata\": {\n",
    "            \"pvalues\": wageModel5Fit.pvalues.to_dict(),\n",
    "            \"r_squared\": float(wageModel5Fit.rsquared),\n",
    "            \"adj_r_squared\": float(wageModel5Fit.rsquared_adj)\n",
    "        },\n",
    "    \n",
    "        \"sampleData\": {\n",
    "            \"dataForTransfer\": wage1SampleData\n",
    "        }\n",
    "    }\n",
    ")"
   ]
  },
  {
   "cell_type": "code",
   "execution_count": null,
   "id": "2854b3df-8b88-46bc-8fc9-462406b559bb",
   "metadata": {},
   "outputs": [],
   "source": [
    "predictedWage5 = wageModel5Fit.predict(\n",
    "  wageModel5Transformer(wagesDf)\n",
    ")\n",
    "wagesDf['predictedWage5'] = predictedWage5\n",
    "wagesDf"
   ]
  },
  {
   "cell_type": "code",
   "execution_count": null,
   "id": "634dc981-70f1-41b6-9da3-1ee578a7be7a",
   "metadata": {},
   "outputs": [],
   "source": [
    "# Extracting coefficients\n",
    "intercept2 = wageModel5Fit.params['const']\n",
    "coefAge2 = wageModel5Fit.params['Age']\n",
    "coefEduc2 = wageModel5Fit.params['Educ']\n",
    "coefAgePower22 = wageModel5Fit.params['agePower2']\n",
    "\n",
    "# Create 3D grid for plotting\n",
    "ageRange = np.linspace(wagesDf['Age'].min(), wagesDf['Age'].max(), 100)\n",
    "educRange = np.linspace(wagesDf['Educ'].min(), wagesDf['Educ'].max(), 100)\n",
    "ageGrid, educGrid = np.meshgrid(ageRange, educRange)\n",
    "\n",
    "# Calculate predicted Wage for each combination of Age and Educ\n",
    "wagePredictEq2 = intercept2 + coefAge2 * ageGrid + coefEduc2 * educGrid + coefAgePower22 * ageGrid * ageGrid\n",
    "\n",
    "\n",
    "\n",
    "\n",
    "fig = plt.figure()\n",
    "ax = plt.axes(projection =\"3d\")\n",
    "\n",
    "# Scatter plot of the actual data points\n",
    "ax.scatter(wagesDf['Age'], wagesDf['Educ'], wagesDf['Wage'], color='blue', label='Actual Wage')\n",
    "\n",
    "\n",
    "\n",
    "# Plotting the fitted plane\n",
    "ax.plot_surface(ageGrid, educGrid, wagePredictEq2, color='green', alpha=0.5, label='Fitted Plane')\n",
    "\n",
    "# Labeling axes\n",
    "ax.set_xlabel('Age')\n",
    "ax.set_ylabel('Educ')\n",
    "ax.set_zlabel('Wage')\n",
    "\n",
    "\n",
    "\n",
    "plt.title('Age and Educ vs. Wage with Fitted Plane')\n",
    "\n",
    "# Rotating the plot\n",
    "# ax.view_init(elev=45, azim=45)  # Set the elevation and azimuth angles\n",
    "plt.show()"
   ]
  },
  {
   "cell_type": "code",
   "execution_count": null,
   "id": "03283949-0e47-4257-a88b-d39f2111661a",
   "metadata": {},
   "outputs": [],
   "source": [
    "\n",
    "\n",
    "fig = plt.figure()\n",
    "ax = plt.axes(projection =\"3d\")\n",
    "\n",
    "# Scatter plot of the actual data points\n",
    "ax.scatter(wagesDf['Age'], wagesDf['Educ'], wagesDf['Wage'], color='blue', label='Actual Wage')\n",
    "\n",
    "# Plotting the fitted plane\n",
    "ax.plot_surface(ageGrid, educGrid, wagePredictEq, color='red', alpha=0.5, label='Fitted Plane')\n",
    "\n",
    "\n",
    "# Plotting the fitted plane\n",
    "ax.plot_surface(ageGrid, educGrid, wagePredictEq2, color='green', alpha=0.5, label='Fitted Plane')\n",
    "\n",
    "# Labeling axes\n",
    "ax.set_xlabel('Age')\n",
    "ax.set_ylabel('Educ')\n",
    "ax.set_zlabel('Wage')\n",
    "\n",
    "\n",
    "\n",
    "plt.title('Age and Educ vs. Wage with Fitted Plane')\n",
    "\n",
    "# Rotating the plot\n",
    "# ax.view_init(elev=45, azim=45)  # Set the elevation and azimuth angles\n",
    "plt.show()"
   ]
  },
  {
   "cell_type": "code",
   "execution_count": null,
   "id": "237b4419-e3b8-4f19-95b7-a99677591e19",
   "metadata": {},
   "outputs": [],
   "source": [
    "## AFTER AREFULLY LOOKUP WE RELIZED  wageModel5Fit SO LETS KEEP IT AS THE BEST"
   ]
  },
  {
   "cell_type": "code",
   "execution_count": null,
   "id": "c98f6c60-c902-45d8-a34c-3340915c6dd9",
   "metadata": {},
   "outputs": [],
   "source": [
    "compareDf = pd.read_csv('./wageModelsComparison.csv')\n",
    "compareDf"
   ]
  },
  {
   "cell_type": "code",
   "execution_count": null,
   "id": "f1408a08-d420-4235-81a7-404f3fe9455b",
   "metadata": {},
   "outputs": [],
   "source": [
    "registerAJrjModel(\n",
    "    wageModel5Fit,\n",
    "    {\n",
    "        \"modelName\":f\"saadet_doga_hascelik__wageModelBEST\",\n",
    "        \"version\":\"1.0.1\",\n",
    "        \"params\": wageModel5Fit.params.to_dict(),\n",
    "        \"score\": float(wageModel5Fit.rsquared),\n",
    "        \"modelLibraray\": 'sm.OLS',\n",
    "        \"libraryMetadata\": {\n",
    "            \"pvalues\": wageModel5Fit.pvalues.to_dict(),\n",
    "            \"r_squared\": float(wageModel5Fit.rsquared),\n",
    "            \"adj_r_squared\": float(wageModel5Fit.rsquared_adj)\n",
    "        },\n",
    "    \n",
    "        \"sampleData\": {\n",
    "            \"dataForTransfer\": wage1SampleData\n",
    "        }\n",
    "    }\n",
    ")"
   ]
  },
  {
   "cell_type": "code",
   "execution_count": null,
   "id": "450bdfa9-4d04-42f9-81d3-323946316f27",
   "metadata": {},
   "outputs": [],
   "source": []
  },
  {
   "cell_type": "code",
   "execution_count": null,
   "id": "08c53a89-b200-48b6-ae72-bc698185c340",
   "metadata": {},
   "outputs": [],
   "source": []
  },
  {
   "cell_type": "code",
   "execution_count": null,
   "id": "a4faf8d8-0ea6-4ce8-9299-b0317366b489",
   "metadata": {},
   "outputs": [],
   "source": []
  }
 ],
 "metadata": {
  "kernelspec": {
   "display_name": "Python [conda env:base] *",
   "language": "python",
   "name": "conda-base-py"
  },
  "language_info": {
   "codemirror_mode": {
    "name": "ipython",
    "version": 3
   },
   "file_extension": ".py",
   "mimetype": "text/x-python",
   "name": "python",
   "nbconvert_exporter": "python",
   "pygments_lexer": "ipython3",
   "version": "3.12.7"
  }
 },
 "nbformat": 4,
 "nbformat_minor": 5
}
