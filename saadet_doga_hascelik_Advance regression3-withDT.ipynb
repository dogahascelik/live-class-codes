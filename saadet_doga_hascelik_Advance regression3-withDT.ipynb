{
 "cells": [
  {
   "cell_type": "code",
   "execution_count": 2,
   "id": "6fc8cf50-ea03-4eb4-932e-fd6d08723d04",
   "metadata": {},
   "outputs": [],
   "source": [
    "import numpy as np\n",
    "import pandas as pd\n",
    "import matplotlib.pyplot as plt"
   ]
  },
  {
   "cell_type": "code",
   "execution_count": 3,
   "id": "2481c353-29cb-4e76-88c1-fce61abea04d",
   "metadata": {},
   "outputs": [],
   "source": [
    "# https://www.statsmodels.org/stable/index.html\n",
    "import statsmodels.api as sm"
   ]
  },
  {
   "cell_type": "code",
   "execution_count": 4,
   "id": "1c57d37c-dcec-4756-a93f-121c892ae41b",
   "metadata": {},
   "outputs": [],
   "source": [
    "import warnings\n",
    "warnings.filterwarnings(\"ignore\")"
   ]
  },
  {
   "cell_type": "code",
   "execution_count": 5,
   "id": "39d15cae-ac0e-4971-a505-b04f694b31e3",
   "metadata": {},
   "outputs": [],
   "source": [
    "from functools import partial"
   ]
  },
  {
   "cell_type": "code",
   "execution_count": 6,
   "id": "e259d873-49c1-48ef-a1f4-ef7bc3ce6159",
   "metadata": {},
   "outputs": [
    {
     "ename": "ModuleNotFoundError",
     "evalue": "No module named 'jrjModelRegistry'",
     "output_type": "error",
     "traceback": [
      "\u001b[31m---------------------------------------------------------------------------\u001b[39m",
      "\u001b[31mModuleNotFoundError\u001b[39m                       Traceback (most recent call last)",
      "\u001b[36mCell\u001b[39m\u001b[36m \u001b[39m\u001b[32mIn[6]\u001b[39m\u001b[32m, line 10\u001b[39m\n\u001b[32m      8\u001b[39m     \u001b[38;5;28mprint\u001b[39m(\u001b[33m'\u001b[39m\u001b[33menvs Loaded\u001b[39m\u001b[33m'\u001b[39m)\n\u001b[32m      9\u001b[39m     load_dotenv(dotenv_path=env_path)\n\u001b[32m---> \u001b[39m\u001b[32m10\u001b[39m \u001b[38;5;28;01mfrom\u001b[39;00m\u001b[38;5;250m \u001b[39m\u001b[34;01mjrjModelRegistry\u001b[39;00m\u001b[34;01m.\u001b[39;00m\u001b[34;01mjrjModelRegistry\u001b[39;00m\u001b[38;5;250m \u001b[39m\u001b[38;5;28;01mimport\u001b[39;00m registerAJrjModel\n",
      "\u001b[31mModuleNotFoundError\u001b[39m: No module named 'jrjModelRegistry'"
     ]
    }
   ],
   "source": [
    "from dotenv import load_dotenv\n",
    "\n",
    "from pathlib import Path\n",
    "\n",
    "env_path = Path(\"../../.env-live\")\n",
    "\n",
    "if env_path.exists():\n",
    "    print('envs Loaded')\n",
    "    load_dotenv(dotenv_path=env_path)\n",
    "from jrjModelRegistry.jrjModelRegistry import registerAJrjModel"
   ]
  },
  {
   "cell_type": "code",
   "execution_count": null,
   "id": "41868e1b-367c-4ec9-9390-a8ac72316abc",
   "metadata": {},
   "outputs": [],
   "source": [
    "def generalRegressionPredictor(self, transformedData):\n",
    "    return self.predict(transformedData)"
   ]
  },
  {
   "cell_type": "code",
   "execution_count": null,
   "id": "f7b1c0a9-afeb-4729-bd0c-2bbeeb304791",
   "metadata": {},
   "outputs": [],
   "source": [
    "annArborDf = pd.read_excel(\"./AnnArbor.xlsx\")\n",
    "# annArborDf = pd.read_excel(\"https://www.dropbox.com/scl/fi/bkcdp9tpqqh6dfr6phtt8/AnnArbor.xlsx?rlkey=0agfqwc7f0kt7oqb3e2h6q3qs&dl=1\")\n",
    "annArborDf"
   ]
  },
  {
   "cell_type": "code",
   "execution_count": null,
   "id": "18191f66-2569-496d-9aee-d11a4fc3a9d7",
   "metadata": {},
   "outputs": [],
   "source": [
    "annArborSampleData = {\n",
    "    \"Beds\": [1],\n",
    "    \"Baths\": [1.0],\n",
    "    \"Sqft\": [500]\n",
    "}\n",
    "annArborSampleData"
   ]
  },
  {
   "cell_type": "code",
   "execution_count": null,
   "id": "9122caff-2f30-46de-8843-e6030d141d3d",
   "metadata": {},
   "outputs": [],
   "source": [
    "annArborDf.describe()"
   ]
  },
  {
   "cell_type": "code",
   "execution_count": null,
   "id": "0ef237d9-51dd-463e-8f32-7d91a0dbc29b",
   "metadata": {},
   "outputs": [],
   "source": [
    "annArborDf.size"
   ]
  },
  {
   "cell_type": "code",
   "execution_count": null,
   "id": "7092e4ae-b469-4067-a8fe-465bdddfd618",
   "metadata": {},
   "outputs": [],
   "source": [
    "annArborDf.shape"
   ]
  },
  {
   "cell_type": "code",
   "execution_count": null,
   "id": "ebedb5c3-763b-4c17-9721-7ef38169084f",
   "metadata": {},
   "outputs": [],
   "source": [
    "import matplotlib.pyplot as plt"
   ]
  },
  {
   "cell_type": "code",
   "execution_count": null,
   "id": "8f59ee30-012d-43c6-b015-917b0d30fee5",
   "metadata": {},
   "outputs": [],
   "source": [
    "# Plotting\n",
    "fig1 = plt.figure(\n",
    "  figsize=(8, 8)\n",
    ")"
   ]
  },
  {
   "cell_type": "code",
   "execution_count": null,
   "id": "924cdf3d-c966-47bd-98f4-fad80464a9fa",
   "metadata": {},
   "outputs": [],
   "source": [
    "plt.scatter(\n",
    "  annArborDf[\"Beds\"],\n",
    "  annArborDf[\"Rent\"],\n",
    "  color='blue',\n",
    "  alpha=0.9,\n",
    "  label='Data Points - scatter',\n",
    ")\n",
    "\n",
    "plt.xlabel('Beds')\n",
    "plt.ylabel('Rent')\n",
    "plt.legend()\n",
    "plt.grid(True)\n",
    "\n",
    "\n",
    "\n",
    "plt.show()"
   ]
  },
  {
   "cell_type": "code",
   "execution_count": null,
   "id": "24637aeb-8f31-4421-a90e-8dca1005857e",
   "metadata": {},
   "outputs": [],
   "source": [
    "plt.scatter(\n",
    "  annArborDf[\"Baths\"],\n",
    "  annArborDf[\"Rent\"],\n",
    "  color='blue',\n",
    "  alpha=0.9,\n",
    "  label='Data Points - scatter',\n",
    ")\n",
    "\n",
    "plt.xlabel('Baths')\n",
    "plt.ylabel('Rent')\n",
    "plt.legend()\n",
    "plt.grid(True)\n",
    "\n",
    "\n",
    "\n",
    "plt.show()"
   ]
  },
  {
   "cell_type": "code",
   "execution_count": null,
   "id": "1ed727ab-da15-430e-96f1-0a04a38cd25e",
   "metadata": {},
   "outputs": [],
   "source": [
    "plt.scatter(\n",
    "  annArborDf[\"Sqft\"],\n",
    "  annArborDf[\"Rent\"],\n",
    "  color='blue',\n",
    "  alpha=0.9,\n",
    "  label='Data Points - scatter',\n",
    ")\n",
    "\n",
    "plt.xlabel('Sqft')\n",
    "plt.ylabel('Rent')\n",
    "plt.legend()\n",
    "plt.grid(True)\n",
    "\n",
    "\n",
    "\n",
    "plt.show()"
   ]
  },
  {
   "cell_type": "code",
   "execution_count": null,
   "id": "d40f25ff-598b-4da4-a480-eba81f3ad20f",
   "metadata": {},
   "outputs": [],
   "source": [
    "def annArborRegModel1Transformer(dataForTransfer = None):\n",
    "    import pandas as pd\n",
    "    import statsmodels.api as sm\n",
    "    if isinstance(dataForTransfer, pd.DataFrame):\n",
    "        df = dataForTransfer.copy()\n",
    "    else:\n",
    "        df = pd.DataFrame(dataForTransfer)\n",
    "    dfTransformer = sm.add_constant(df[['Sqft']],has_constant='add')\n",
    "    return dfTransformer\n",
    "\n",
    "annArborRegModel1 = sm.OLS(\n",
    "  annArborDf[\"Rent\"],\n",
    "  annArborRegModel1Transformer(annArborDf)\n",
    ")\n",
    "annArborRegModel1Fit = annArborRegModel1.fit()\n",
    "print(annArborRegModel1Fit.summary())"
   ]
  },
  {
   "cell_type": "code",
   "execution_count": null,
   "id": "7a47e882-dbe6-4c1e-9da7-68c0e8bdb5cb",
   "metadata": {},
   "outputs": [],
   "source": [
    "annArborRegModel1Transformer(annArborSampleData)"
   ]
  },
  {
   "cell_type": "code",
   "execution_count": null,
   "id": "49b1582f-2733-46b9-ab6f-7a3c0d04bc0a",
   "metadata": {},
   "outputs": [],
   "source": [
    "annArborRegModel1Fit.transformer = annArborRegModel1Transformer\n",
    "annArborRegModel1Fit.mainPredictor = partial(generalRegressionPredictor, annArborRegModel1Fit)\n",
    "registerAJrjModel(\n",
    "    annArborRegModel1Fit,\n",
    "    {\n",
    "        \"modelName\":f\"saadet_doga_hascelik__annArborRegModel1Fit\",\n",
    "        \"version\":\"1.0.1\",\n",
    "        \"params\": annArborRegModel1Fit.params.to_dict(),\n",
    "        \"score\": float(annArborRegModel1Fit.rsquared),\n",
    "        \"modelLibraray\": 'sm.OLS',\n",
    "        \"libraryMetadata\": {\n",
    "            \"pvalues\": annArborRegModel1Fit.pvalues.to_dict(),\n",
    "            \"r_squared\": float(annArborRegModel1Fit.rsquared),\n",
    "            \"adj_r_squared\": float(annArborRegModel1Fit.rsquared_adj)\n",
    "        },\n",
    "    \n",
    "        \"sampleData\": {\n",
    "            \"dataForTransfer\": annArborSampleData\n",
    "        }\n",
    "    }\n",
    ")"
   ]
  },
  {
   "cell_type": "code",
   "execution_count": null,
   "id": "272f8b87-5e88-4e23-a60c-a45f3a8a353c",
   "metadata": {},
   "outputs": [],
   "source": []
  },
  {
   "cell_type": "code",
   "execution_count": null,
   "id": "1d15c42d-1551-4292-a0b9-a518f2213830",
   "metadata": {},
   "outputs": [],
   "source": [
    "predictedRent1 = annArborRegModel1Fit.predict(annArborRegModel1Transformer(annArborDf))\n",
    "annArborDf['predictedRent1'] = predictedRent1\n",
    "annArborDf"
   ]
  },
  {
   "cell_type": "code",
   "execution_count": null,
   "id": "c179e982-a62f-4c2b-a1bb-14783be6d348",
   "metadata": {},
   "outputs": [],
   "source": [
    "plt.scatter(\n",
    "  annArborDf[\"Rent\"],\n",
    "  annArborDf[\"Sqft\"],\n",
    "  color='blue',\n",
    "  alpha=0.5,\n",
    "  label='Data Points - scatter',\n",
    ")\n",
    "\n",
    "intercept = annArborRegModel1Fit.params['const']\n",
    "sqFtSlope = annArborRegModel1Fit.params['Sqft']\n",
    "x_values = np.linspace(500, 4500, 200)\n",
    "y_values = intercept + sqFtSlope * x_values\n",
    "\n",
    "plt.plot(\n",
    "  x_values,\n",
    "  y_values,\n",
    "  color='red',\n",
    "  label='rentSqftModel1Fit - predictedRent1'\n",
    ")\n",
    "plt.xlabel('Sqft')\n",
    "plt.ylabel('Rent')\n",
    "plt.legend()\n",
    "plt.grid(True)\n",
    "\n",
    "\n",
    "plt.show()"
   ]
  },
  {
   "cell_type": "code",
   "execution_count": null,
   "id": "cd160522-4075-4c66-9dd8-73d2ae606f1d",
   "metadata": {},
   "outputs": [],
   "source": [
    "def annArborRegModel2Transformer(dataForTransfer = None):\n",
    "    import pandas as pd\n",
    "    import statsmodels.api as sm\n",
    "    if isinstance(dataForTransfer, pd.DataFrame):\n",
    "        df = dataForTransfer.copy()\n",
    "    else:\n",
    "        df = pd.DataFrame(dataForTransfer)\n",
    "    dfTransformer = sm.add_constant(df[[\"Beds\", \"Baths\", \"Sqft\"]],has_constant='add')\n",
    "    return dfTransformer\n",
    "annArborRegModel2 = sm.OLS(\n",
    "  annArborDf[\"Rent\"],\n",
    "  annArborRegModel2Transformer(annArborDf)\n",
    ")\n",
    "annArborRegModel2Fit = annArborRegModel2.fit()\n",
    "print(annArborRegModel2Fit.summary())"
   ]
  },
  {
   "cell_type": "code",
   "execution_count": null,
   "id": "0a4fe140-69e7-4ef6-9b20-addd406acede",
   "metadata": {},
   "outputs": [],
   "source": [
    "annArborRegModel2Fit.transformer = annArborRegModel2Transformer\n",
    "annArborRegModel2Fit.mainPredictor = partial(generalRegressionPredictor, annArborRegModel2Fit)\n",
    "registerAJrjModel(\n",
    "    annArborRegModel2Fit,\n",
    "    {\n",
    "        \"modelName\":f\"saadet_doga_hascelik__annArborRegModel2Fit\",\n",
    "        \"version\":\"1.0.1\",\n",
    "        \"params\": annArborRegModel2Fit.params.to_dict(),\n",
    "        \"score\": float(annArborRegModel2Fit.rsquared),\n",
    "        \"modelLibraray\": 'sm.OLS',\n",
    "        \"libraryMetadata\": {\n",
    "            \"pvalues\": annArborRegModel2Fit.pvalues.to_dict(),\n",
    "            \"r_squared\": float(annArborRegModel2Fit.rsquared),\n",
    "            \"adj_r_squared\": float(annArborRegModel2Fit.rsquared_adj)\n",
    "        },\n",
    "    \n",
    "        \"sampleData\": {\n",
    "            \"dataForTransfer\": annArborSampleData\n",
    "        }\n",
    "    }\n",
    ")"
   ]
  },
  {
   "cell_type": "code",
   "execution_count": null,
   "id": "7a68d615-d651-4056-a892-0a22863d448e",
   "metadata": {},
   "outputs": [],
   "source": []
  },
  {
   "cell_type": "code",
   "execution_count": null,
   "id": "0e342b3c-aad1-429e-8f18-0d971e62ab57",
   "metadata": {},
   "outputs": [],
   "source": [
    "def annArborRegModel3Transformer(dataForTransfer = None):\n",
    "    import pandas as pd\n",
    "    import statsmodels.api as sm\n",
    "    import math\n",
    "    if isinstance(dataForTransfer, pd.DataFrame):\n",
    "        df = dataForTransfer.copy()\n",
    "    else:\n",
    "        df = pd.DataFrame(dataForTransfer)\n",
    "    df['log(Sqft)'] = df.apply(lambda row: math.log(row['Sqft']), axis=1)\n",
    "    dfTransformer = sm.add_constant(df[[\"Beds\", \"Baths\", \"Sqft\", 'log(Sqft)']],has_constant='add')\n",
    "    return dfTransformer"
   ]
  },
  {
   "cell_type": "code",
   "execution_count": null,
   "id": "5bafc818-a218-419e-9f74-437c657ac939",
   "metadata": {},
   "outputs": [],
   "source": [
    "annArborDf['log(Sqft)'] = annArborRegModel3Transformer(annArborDf)['log(Sqft)']\n",
    "annArborDf"
   ]
  },
  {
   "cell_type": "code",
   "execution_count": null,
   "id": "9e2236a4-5d3e-48fa-8299-29c776c297bb",
   "metadata": {},
   "outputs": [],
   "source": [
    "annArborRegModel3 = sm.OLS(\n",
    "  annArborDf[\"Rent\"],\n",
    "  annArborRegModel3Transformer(annArborDf)\n",
    ")\n",
    "annArborRegModel3Fit = annArborRegModel3.fit()\n",
    "print(annArborRegModel3Fit.summary())"
   ]
  },
  {
   "cell_type": "code",
   "execution_count": null,
   "id": "f47432af-bb53-436b-83c5-471ad46a79c1",
   "metadata": {},
   "outputs": [],
   "source": [
    "annArborRegModel3Fit.transformer = annArborRegModel3Transformer\n",
    "annArborRegModel3Fit.mainPredictor = partial(generalRegressionPredictor, annArborRegModel3Fit)\n",
    "registerAJrjModel(\n",
    "    annArborRegModel3Fit,\n",
    "    {\n",
    "        \"modelName\":f\"saadet_doga_hascelik__annArborRegModel3Fit\",\n",
    "        \"version\":\"1.0.1\",\n",
    "        \"params\": annArborRegModel3Fit.params.to_dict(),\n",
    "        \"score\": float(annArborRegModel3Fit.rsquared),\n",
    "        \"modelLibraray\": 'sm.OLS',\n",
    "        \"libraryMetadata\": {\n",
    "            \"pvalues\": annArborRegModel3Fit.pvalues.to_dict(),\n",
    "            \"r_squared\": float(annArborRegModel3Fit.rsquared),\n",
    "            \"adj_r_squared\": float(annArborRegModel3Fit.rsquared_adj)\n",
    "        },\n",
    "    \n",
    "        \"sampleData\": {\n",
    "            \"dataForTransfer\": annArborSampleData\n",
    "        }\n",
    "    }\n",
    ")"
   ]
  },
  {
   "cell_type": "code",
   "execution_count": null,
   "id": "8df87650-e59b-4a2c-9feb-f51dae600b9b",
   "metadata": {},
   "outputs": [],
   "source": [
    "def annArborRegModel4Transformer(dataForTransfer = None):\n",
    "    import pandas as pd\n",
    "    import statsmodels.api as sm\n",
    "    import math\n",
    "    if isinstance(dataForTransfer, pd.DataFrame):\n",
    "        df = dataForTransfer.copy()\n",
    "    else:\n",
    "        df = pd.DataFrame(dataForTransfer)\n",
    "    df['log(Sqft)'] = df.apply(lambda row: math.log(row['Sqft']), axis=1)\n",
    "    dfTransformer = sm.add_constant(df[[\"Beds\", 'log(Sqft)']],has_constant='add')\n",
    "    return dfTransformer"
   ]
  },
  {
   "cell_type": "code",
   "execution_count": null,
   "id": "549102a6-e1df-4380-99d3-d843875b0770",
   "metadata": {},
   "outputs": [],
   "source": [
    "annArborRegModel4 = sm.OLS(\n",
    "  annArborDf[\"Rent\"],\n",
    "  annArborRegModel4Transformer(annArborDf)\n",
    ")\n",
    "annArborRegModel4Fit = annArborRegModel4.fit()\n",
    "print(annArborRegModel4Fit.summary())"
   ]
  },
  {
   "cell_type": "code",
   "execution_count": null,
   "id": "2abbf253-a00c-43f5-a10f-0df958cf1b59",
   "metadata": {},
   "outputs": [],
   "source": [
    "# plt.scatter(\n",
    "#   annArborDf[\"Sqft\"],\n",
    "#   annArborDf[\"Rent\"],\n",
    "#   color='blue',\n",
    "#   alpha=0.9,\n",
    "#   label='Data Points - scatter',\n",
    "# )\n",
    "\n",
    "plt.scatter(\n",
    "  annArborDf[\"log(Sqft)\"],\n",
    "  annArborDf[\"Rent\"],\n",
    "  color='red',\n",
    "  alpha=0.9,\n",
    "  label='Data Points - scatter',\n",
    ")\n",
    "\n",
    "\n",
    "# plt.xlabel('Sqft')\n",
    "plt.ylabel('Rent')\n",
    "plt.legend()\n",
    "plt.grid(True)\n",
    "\n",
    "\n",
    "\n",
    "plt.show()"
   ]
  },
  {
   "cell_type": "code",
   "execution_count": null,
   "id": "a33fd45a-2da8-4553-afc2-70c877458fa2",
   "metadata": {},
   "outputs": [],
   "source": [
    "annArborRegModel4Fit.transformer = annArborRegModel4Transformer\n",
    "annArborRegModel4Fit.mainPredictor = partial(generalRegressionPredictor, annArborRegModel4Fit)\n",
    "registerAJrjModel(\n",
    "    annArborRegModel4Fit,\n",
    "    {\n",
    "        \"modelName\":f\"saadet_doga_hascelik__annArborRegModel4Fit\",\n",
    "        \"version\":\"1.0.1\",\n",
    "        \"params\": annArborRegModel4Fit.params.to_dict(),\n",
    "        \"score\": float(annArborRegModel4Fit.rsquared),\n",
    "        \"modelLibraray\": 'sm.OLS',\n",
    "        \"libraryMetadata\": {\n",
    "            \"pvalues\": annArborRegModel4Fit.pvalues.to_dict(),\n",
    "            \"r_squared\": float(annArborRegModel4Fit.rsquared),\n",
    "            \"adj_r_squared\": float(annArborRegModel4Fit.rsquared_adj)\n",
    "        },\n",
    "    \n",
    "        \"sampleData\": {\n",
    "            \"dataForTransfer\": annArborSampleData\n",
    "        }\n",
    "    }\n",
    ")"
   ]
  },
  {
   "cell_type": "code",
   "execution_count": null,
   "id": "1bf8aba4-a282-4786-8a6f-7ee3147cd7f1",
   "metadata": {},
   "outputs": [],
   "source": [
    "## AFTER AREFULLY LOOKUP WE RELIZED  annArborRegModel4Fit SO LETS KEEP IT AS THE BEST"
   ]
  },
  {
   "cell_type": "code",
   "execution_count": null,
   "id": "5a4f1c79-bf4b-49ae-9239-932759426b61",
   "metadata": {},
   "outputs": [],
   "source": [
    "compareDf = pd.read_csv('./annArborModelsComparison.csv')\n",
    "compareDf"
   ]
  },
  {
   "cell_type": "code",
   "execution_count": null,
   "id": "a8a05ace-8e1a-4a5c-8a55-2267ece50ff8",
   "metadata": {},
   "outputs": [],
   "source": [
    "registerAJrjModel(\n",
    "    annArborRegModel4Fit,\n",
    "    {\n",
    "        \"modelName\":f\"annArborRegModelBEST\",\n",
    "        \"version\":\"1.0.1\",\n",
    "        \"params\": annArborRegModel4Fit.params.to_dict(),\n",
    "        \"score\": float(annArborRegModel4Fit.rsquared),\n",
    "        \"modelLibraray\": 'sm.OLS',\n",
    "        \"libraryMetadata\": {\n",
    "            \"pvalues\": annArborRegModel4Fit.pvalues.to_dict(),\n",
    "            \"r_squared\": float(annArborRegModel4Fit.rsquared),\n",
    "            \"adj_r_squared\": float(annArborRegModel4Fit.rsquared_adj)\n",
    "        },\n",
    "    \n",
    "        \"sampleData\": {\n",
    "            \"dataForTransfer\": annArborSampleData\n",
    "        }\n",
    "    }\n",
    ")"
   ]
  },
  {
   "cell_type": "code",
   "execution_count": null,
   "id": "0565027f-d401-4f65-8379-4bd9ac1ecb08",
   "metadata": {},
   "outputs": [],
   "source": []
  },
  {
   "cell_type": "code",
   "execution_count": null,
   "id": "381548c6-ddff-4688-a5e6-acc3bdb8d21b",
   "metadata": {},
   "outputs": [],
   "source": []
  },
  {
   "cell_type": "markdown",
   "id": "eee237b4-fb69-4c92-a684-e274b2cadeba",
   "metadata": {},
   "source": [
    "### Using Decision Trees"
   ]
  },
  {
   "cell_type": "code",
   "execution_count": null,
   "id": "b7c354a2-a054-41b5-b935-0e19a8a2edfe",
   "metadata": {},
   "outputs": [],
   "source": [
    "from sklearn.tree import DecisionTreeRegressor"
   ]
  },
  {
   "cell_type": "code",
   "execution_count": null,
   "id": "0f6bcdee-93f5-4fa4-a242-c1043c38d96d",
   "metadata": {},
   "outputs": [],
   "source": [
    "rt = DecisionTreeRegressor(random_state=42, max_depth=4, min_samples_leaf=10)"
   ]
  },
  {
   "cell_type": "code",
   "execution_count": null,
   "id": "24192a5c-ed8e-40fb-bfba-ef470c457cbd",
   "metadata": {},
   "outputs": [],
   "source": [
    "rt.fit(annArborRegModel4Transformer(annArborDf), annArborDf[\"Rent\"])\n",
    "  "
   ]
  },
  {
   "cell_type": "code",
   "execution_count": null,
   "id": "260deede-a760-4a3f-9d10-49a5341e1534",
   "metadata": {},
   "outputs": [],
   "source": [
    "from IPython.display import Image\n",
    "from six import StringIO\n",
    "from sklearn.tree import export_graphviz\n",
    "import pydotplus, graphviz\n",
    "\n",
    "dot_data = StringIO()\n",
    "\n",
    "export_graphviz(rt, out_file=dot_data, filled=True, rounded=True,\n",
    "                feature_names=annArborRegModel4Transformer(annArborDf).columns)\n",
    "\n",
    "graph = pydotplus.graph_from_dot_data(dot_data.getvalue())\n",
    "Image(graph.create_png())\n"
   ]
  },
  {
   "cell_type": "code",
   "execution_count": null,
   "id": "a0714510-defd-43bd-aea3-328551a65770",
   "metadata": {},
   "outputs": [],
   "source": [
    "pred = rt.predict(annArborRegModel4Transformer(annArborDf))\n",
    "pred"
   ]
  },
  {
   "cell_type": "code",
   "execution_count": null,
   "id": "bd0e6337-25b4-4b4b-a362-01e35d452aa7",
   "metadata": {},
   "outputs": [],
   "source": [
    "from sklearn.metrics import r2_score"
   ]
  },
  {
   "cell_type": "code",
   "execution_count": null,
   "id": "1121e5f6-73b8-41be-86a5-0eef27d96a09",
   "metadata": {},
   "outputs": [],
   "source": [
    "score = r2_score(annArborDf[\"Rent\"], pred)\n",
    "score"
   ]
  },
  {
   "cell_type": "code",
   "execution_count": null,
   "id": "f0041c16-c986-4139-819c-642b0582b301",
   "metadata": {},
   "outputs": [],
   "source": [
    "def generalRtPredictor(self, transformedData):\n",
    "    import pandas as pd\n",
    "    res = self.predict(transformedData)\n",
    "    return pd.Series(res)"
   ]
  },
  {
   "cell_type": "code",
   "execution_count": null,
   "id": "0a57cd01-f7d7-416a-9af8-e0d1f6ade463",
   "metadata": {},
   "outputs": [],
   "source": [
    "rt.transformer = annArborRegModel4Transformer\n",
    "rt.mainPredictor = partial(generalRegressionPredictor, rt)\n"
   ]
  },
  {
   "cell_type": "code",
   "execution_count": null,
   "id": "89e6474a-991f-4a0a-b5a6-d2066d7edea6",
   "metadata": {},
   "outputs": [],
   "source": [
    "rt.mainPredictor(rt.transformer(annArborSampleData))"
   ]
  },
  {
   "cell_type": "code",
   "execution_count": null,
   "id": "1d563ce9-e6d4-41ee-915f-0c9b07fa0fc7",
   "metadata": {},
   "outputs": [],
   "source": [
    "registerAJrjModel(\n",
    "    rt,\n",
    "    {\n",
    "        \"modelName\":f\"saadet_doga_hascelik__annArborRegModel4Fit_RT1\",\n",
    "        \"version\":\"1.0.1\",\n",
    "        \"params\": rt.get_params(),\n",
    "        \"score\": score,\n",
    "        \"modelLibraray\": 'sklearn.tree.DecisionTreeRegressor',\n",
    "        \"libraryMetadata\": {\n",
    "            \"feature_importances\": rt.feature_importances_.tolist(),\n",
    "            \"n_features\": int(rt.n_features_in_),\n",
    "            \"depth\": int(rt.get_depth()),\n",
    "            \"n_leaves\": int(rt.get_n_leaves()),\n",
    "        },\n",
    "    \n",
    "        \"sampleData\": {\n",
    "            \"dataForTransfer\": annArborSampleData\n",
    "        }\n",
    "    }\n",
    ")"
   ]
  },
  {
   "cell_type": "code",
   "execution_count": null,
   "id": "e3b390b2-0e6c-41f3-ac63-b8005c345724",
   "metadata": {},
   "outputs": [],
   "source": [
    "rt2 = DecisionTreeRegressor(random_state=42)"
   ]
  },
  {
   "cell_type": "code",
   "execution_count": null,
   "id": "9b6752a0-80dc-457c-a111-4b8151097d34",
   "metadata": {},
   "outputs": [],
   "source": [
    "rt2.fit(annArborRegModel4Transformer(annArborDf), annArborDf[\"Rent\"])\n",
    "  "
   ]
  },
  {
   "cell_type": "code",
   "execution_count": null,
   "id": "80092440-da5a-47b6-9d2f-32fd6f22afa3",
   "metadata": {},
   "outputs": [],
   "source": [
    "dot_data = StringIO()\n",
    "\n",
    "export_graphviz(rt2, out_file=dot_data, filled=True, rounded=True,\n",
    "                feature_names=annArborRegModel4Transformer(annArborDf).columns)\n",
    "\n",
    "graph = pydotplus.graph_from_dot_data(dot_data.getvalue())\n",
    "Image(graph.create_png())"
   ]
  },
  {
   "cell_type": "code",
   "execution_count": null,
   "id": "5d1b137a-7c08-45f6-b41d-0be048a798d6",
   "metadata": {},
   "outputs": [],
   "source": [
    "pred = rt2.predict(annArborRegModel4Transformer(annArborDf))\n",
    "pred"
   ]
  },
  {
   "cell_type": "code",
   "execution_count": null,
   "id": "4e60f954-1f6a-410c-a467-d5d66e80c448",
   "metadata": {},
   "outputs": [],
   "source": [
    "score = r2_score(annArborDf[\"Rent\"], pred)\n",
    "score"
   ]
  },
  {
   "cell_type": "code",
   "execution_count": null,
   "id": "95778ca5-1efe-4aa2-8fb4-535b516f315e",
   "metadata": {},
   "outputs": [],
   "source": [
    "rt2.transformer = annArborRegModel4Transformer\n",
    "rt2.mainPredictor = partial(generalRegressionPredictor, rt2)"
   ]
  },
  {
   "cell_type": "code",
   "execution_count": null,
   "id": "e75eaa79-a89b-4236-b244-c3fb02ce841e",
   "metadata": {},
   "outputs": [],
   "source": [
    "rt2.mainPredictor(rt2.transformer(annArborSampleData))"
   ]
  },
  {
   "cell_type": "code",
   "execution_count": null,
   "id": "af5e2ab9-bda3-4b4b-b2e5-fc51ed8e31e0",
   "metadata": {},
   "outputs": [],
   "source": [
    "registerAJrjModel(\n",
    "    rt2,\n",
    "    {\n",
    "        \"modelName\":f\"saadet_doga_hascelik__annArborRegModel4Fit_RT2\",\n",
    "        \"version\":\"1.0.1\",\n",
    "        \"params\": rt2.get_params(),\n",
    "        \"score\": score,\n",
    "        \"modelLibraray\": 'sklearn.tree.DecisionTreeRegressor',\n",
    "        \"libraryMetadata\": {\n",
    "            \"feature_importances\": rt2.feature_importances_.tolist(),\n",
    "            \"n_features\": int(rt2.n_features_in_),\n",
    "            \"depth\": int(rt2.get_depth()),\n",
    "            \"n_leaves\": int(rt2.get_n_leaves()),\n",
    "        },\n",
    "    \n",
    "        \"sampleData\": {\n",
    "            \"dataForTransfer\": annArborSampleData\n",
    "        }\n",
    "    }\n",
    ")"
   ]
  },
  {
   "cell_type": "markdown",
   "id": "2e81b00d-5eee-4aed-bd53-c940bfb8321a",
   "metadata": {},
   "source": [
    "### Using Random Forest Regressor"
   ]
  },
  {
   "cell_type": "code",
   "execution_count": null,
   "id": "dbae1d62-9766-4e86-838c-786aae45dded",
   "metadata": {},
   "outputs": [],
   "source": [
    "from sklearn.ensemble import RandomForestRegressor"
   ]
  },
  {
   "cell_type": "code",
   "execution_count": null,
   "id": "9bd00409-b64c-4854-af8f-d219811d038d",
   "metadata": {},
   "outputs": [],
   "source": [
    "rf = RandomForestRegressor(random_state=42, n_jobs=-1, max_depth=5, min_samples_leaf=10)"
   ]
  },
  {
   "cell_type": "code",
   "execution_count": null,
   "id": "82e9f84f-9764-4c41-9348-76a33cea36f7",
   "metadata": {},
   "outputs": [],
   "source": [
    "rf.fit(annArborRegModel4Transformer(annArborDf), annArborDf[\"Rent\"])"
   ]
  },
  {
   "cell_type": "code",
   "execution_count": null,
   "id": "cc8c6941-cbc2-4066-87e6-d4035c340647",
   "metadata": {},
   "outputs": [],
   "source": [
    "sample_tree = rf.estimators_[3]"
   ]
  },
  {
   "cell_type": "code",
   "execution_count": null,
   "id": "8ab0557c-c459-4672-99ba-e15329bdd683",
   "metadata": {},
   "outputs": [],
   "source": [
    "dot_data = StringIO()\n",
    "\n",
    "export_graphviz(sample_tree, out_file=dot_data, filled=True, rounded=True,\n",
    "                feature_names=annArborRegModel4Transformer(annArborDf).columns)\n",
    "\n",
    "graph = pydotplus.graph_from_dot_data(dot_data.getvalue())\n",
    "Image(graph.create_png())"
   ]
  },
  {
   "cell_type": "code",
   "execution_count": null,
   "id": "667d9d00-01cf-44bd-b330-e6148ba7f5af",
   "metadata": {},
   "outputs": [],
   "source": [
    "pred = rf.predict(annArborRegModel4Transformer(annArborDf))\n",
    "pred"
   ]
  },
  {
   "cell_type": "code",
   "execution_count": null,
   "id": "3e13b32b-9fe4-4570-baab-b11ee99a573e",
   "metadata": {},
   "outputs": [],
   "source": [
    "score = r2_score(annArborDf[\"Rent\"], pred)\n",
    "score"
   ]
  },
  {
   "cell_type": "code",
   "execution_count": null,
   "id": "b12b4381-3848-422a-b49a-0c4dcd0e2cb8",
   "metadata": {},
   "outputs": [],
   "source": [
    "rf.transformer = annArborRegModel4Transformer\n",
    "rf.mainPredictor = partial(generalRegressionPredictor, rf)"
   ]
  },
  {
   "cell_type": "code",
   "execution_count": null,
   "id": "7a622e55-8523-4dfc-9368-79fc3891efa2",
   "metadata": {},
   "outputs": [],
   "source": [
    "registerAJrjModel(\n",
    "    rf,\n",
    "    {\n",
    "        \"modelName\":f\"saadet_doga_hascelik__annArborRegModel4Fit_RF\",\n",
    "        \"version\":\"1.0.1\",\n",
    "        \"params\": rf.get_params(),\n",
    "        \"score\": score,\n",
    "        \"modelLibraray\": 'sklearn.ensemble.RandomForestRegressor',\n",
    "            \"libraryMetadata\": {\n",
    "            \"feature_importances\": rf.feature_importances_.tolist(),\n",
    "            \"n_features\": int(rf.n_features_in_),\n",
    "            \"avg_depth\": float(sum(t.get_depth() for t in rf.estimators_) / len(rf.estimators_)),\n",
    "            \"avg_leaves\": float(sum(t.get_n_leaves() for t in rf.estimators_) / len(rf.estimators_)),\n",
    "        },\n",
    "    \n",
    "        \"sampleData\": {\n",
    "            \"dataForTransfer\": annArborSampleData\n",
    "        }\n",
    "    }\n",
    ")"
   ]
  },
  {
   "cell_type": "code",
   "execution_count": null,
   "id": "7c700d29-f08f-44f2-b8d3-0bbde843359d",
   "metadata": {},
   "outputs": [],
   "source": []
  }
 ],
 "metadata": {
  "kernelspec": {
   "display_name": "Python [conda env:base] *",
   "language": "python",
   "name": "conda-base-py"
  },
  "language_info": {
   "codemirror_mode": {
    "name": "ipython",
    "version": 3
   },
   "file_extension": ".py",
   "mimetype": "text/x-python",
   "name": "python",
   "nbconvert_exporter": "python",
   "pygments_lexer": "ipython3",
   "version": "3.12.7"
  }
 },
 "nbformat": 4,
 "nbformat_minor": 5
}
