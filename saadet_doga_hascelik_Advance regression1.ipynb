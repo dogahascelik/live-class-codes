{
 "cells": [
  {
   "cell_type": "code",
   "execution_count": 2,
   "id": "4e3ccbfa-f77a-4106-8511-a1d542a201b8",
   "metadata": {},
   "outputs": [],
   "source": [
    "import numpy as np\n",
    "import pandas as pd\n",
    "import matplotlib.pyplot as plt"
   ]
  },
  {
   "cell_type": "code",
   "execution_count": 3,
   "id": "b16ca185-648a-4258-b3cb-35bcb67db428",
   "metadata": {},
   "outputs": [
    {
     "name": "stdout",
     "output_type": "stream",
     "text": [
      "['saadet_doga_hascelik_To_predict_.ipynb', 'jrjModelRegistry', '.DS_Store', 'saadet_doga_hascelik_Advance regression3.ipynb', 'saadet_doga_hascelik_Advance regression1.ipynb', '.~jrjModelRegistryCache', 'anaconda_projects', 'saadet_doga_hascelik_2_Heart+Disease+Prediction.ipynb', 'saadet_doga_hascelik_Heart+Disease+Prediction.ipynb', 'saadet_doga_hascelik_Housing+Case+Study+--+Tree+Models.ipynb', '__pycache__', 'saadet_doga_hascelik_Advance regression2.ipynb', 'saadet_doga_hascelik_Evaluating_Binary_Classification.ipynb', '.ipynb_checkpoints', 'saadet_doga_hascelik_LiniearProbobility-logistic regresiion.ipynb', 'heart_v2.csv', 'saadet_doga_hascelik_Advance regression3-withDT.ipynb', '.~jrjModelRegistry']\n"
     ]
    }
   ],
   "source": [
    "import os\n",
    "print(os.listdir())\n"
   ]
  },
  {
   "cell_type": "code",
   "execution_count": 4,
   "id": "59a58f4f-bbaf-4f97-8df9-925debea48a2",
   "metadata": {},
   "outputs": [
    {
     "name": "stdout",
     "output_type": "stream",
     "text": [
      "/Users/dogahascelik/Desktop/assignment-2\n"
     ]
    }
   ],
   "source": [
    "import os\n",
    "print(os.getcwd())\n"
   ]
  },
  {
   "cell_type": "code",
   "execution_count": 5,
   "id": "4b57efb0-3312-4309-82ac-65352ec70160",
   "metadata": {},
   "outputs": [],
   "source": [
    "# https://www.statsmodels.org/stable/index.html\n",
    "import statsmodels.api as sm"
   ]
  },
  {
   "cell_type": "code",
   "execution_count": 6,
   "id": "edc03525-60b3-487a-ae90-874967a5711e",
   "metadata": {},
   "outputs": [],
   "source": [
    "import sys\n",
    "sys.path.append(os.getcwd())  \n"
   ]
  },
  {
   "cell_type": "code",
   "execution_count": 7,
   "id": "cd9d93b6-e560-4dc8-9263-71eb12e8b651",
   "metadata": {},
   "outputs": [],
   "source": [
    "from jrjModelRegistry import selectModelAndPredict\n"
   ]
  },
  {
   "cell_type": "code",
   "execution_count": 8,
   "id": "d81cff7d-7a4e-47fb-9d8e-1081a4e6c9e5",
   "metadata": {},
   "outputs": [
    {
     "name": "stdout",
     "output_type": "stream",
     "text": [
      "['APIRouter', 'CACHE_DIR', 'FileResponse', 'HTTPException', 'InvalidId', 'JSONEncoder', 'JrjModelRegistry', 'ObjectId', 'Path', 'Request', 'StaticFiles', '__builtins__', '__cached__', '__doc__', '__file__', '__loader__', '__name__', '__package__', '__path__', '__spec__', 'datetime', 'deleteAJrjModelAsset', 'deleteModelById', 'delete_model', 'find_model_by_id', 'find_model_by_idAndLoadModel', 'find_model_by_id_endpoint', 'getRoot', 'handleDashboard', 'hashlib', 'initMongodb', 'inspect', 'jrjModelRegistry', 'jrjModelRegistryConfig', 'jrjRouterModelRegistry', 'json', 'loadAJrjModel', 'mongo', 'new_model', 'os', 'pd', 'searchModels', 'searchModelsCommon', 'search_models', 'search_models_common', 'selectDfModelAndReturnFirstItem', 'selectModel', 'selectModelAndPredict', 'sm', 'updateModelById', 'update_model', 'validate_model_registry_config']\n"
     ]
    }
   ],
   "source": [
    "import jrjModelRegistry\n",
    "print(dir(jrjModelRegistry))\n"
   ]
  },
  {
   "cell_type": "code",
   "execution_count": 9,
   "id": "b01fa032-6521-439c-90e1-71f859d2ab8e",
   "metadata": {},
   "outputs": [],
   "source": [
    "import warnings\n",
    "warnings.filterwarnings(\"ignore\")"
   ]
  },
  {
   "cell_type": "code",
   "execution_count": 10,
   "id": "8ebe01ca-c09e-42bd-bb51-e686eca5a812",
   "metadata": {},
   "outputs": [],
   "source": [
    "from functools import partial"
   ]
  },
  {
   "cell_type": "code",
   "execution_count": 11,
   "id": "059eeedd-dadd-4c0d-9c54-4d7255e6bd6a",
   "metadata": {},
   "outputs": [],
   "source": [
    "from dotenv import load_dotenv\n",
    "\n",
    "from pathlib import Path\n",
    "\n",
    "env_path = Path(\"../../.env-live\")\n",
    "\n",
    "if env_path.exists():\n",
    "    print('envs Loaded')\n",
    "    load_dotenv(dotenv_path=env_path)\n",
    "from jrjModelRegistry.jrjModelRegistry import registerAJrjModel"
   ]
  },
  {
   "cell_type": "code",
   "execution_count": 12,
   "id": "f288268b-dc4a-44c3-8589-e155b1f3d61f",
   "metadata": {},
   "outputs": [],
   "source": [
    "def generalRegressionPredictor(self, transformedData):\n",
    "    return self.predict(transformedData)"
   ]
  },
  {
   "cell_type": "code",
   "execution_count": 13,
   "id": "a91a561c-00df-4dfa-b17f-6012d37f7ebb",
   "metadata": {},
   "outputs": [],
   "source": [
    "sallaryMisDf = pd.read_excel(\"https://www.dropbox.com/scl/fi/zt2vtwhpz8ndblsxqdqx1/Salary_MIS.xlsx?rlkey=2uk6m7m9w90isv6zsynhhhpyv&st=gxumjns5&dl=1\")"
   ]
  },
  {
   "cell_type": "code",
   "execution_count": 14,
   "id": "f61f44a5-e798-44ae-8292-f9077fcbcba7",
   "metadata": {},
   "outputs": [
    {
     "data": {
      "text/html": [
       "<div>\n",
       "<style scoped>\n",
       "    .dataframe tbody tr th:only-of-type {\n",
       "        vertical-align: middle;\n",
       "    }\n",
       "\n",
       "    .dataframe tbody tr th {\n",
       "        vertical-align: top;\n",
       "    }\n",
       "\n",
       "    .dataframe thead th {\n",
       "        text-align: right;\n",
       "    }\n",
       "</style>\n",
       "<table border=\"1\" class=\"dataframe\">\n",
       "  <thead>\n",
       "    <tr style=\"text-align: right;\">\n",
       "      <th></th>\n",
       "      <th>Salary</th>\n",
       "      <th>GPA</th>\n",
       "      <th>MIS</th>\n",
       "      <th>Statistics</th>\n",
       "    </tr>\n",
       "  </thead>\n",
       "  <tbody>\n",
       "    <tr>\n",
       "      <th>0</th>\n",
       "      <td>72</td>\n",
       "      <td>3.53</td>\n",
       "      <td>1</td>\n",
       "      <td>0</td>\n",
       "    </tr>\n",
       "    <tr>\n",
       "      <th>1</th>\n",
       "      <td>66</td>\n",
       "      <td>2.86</td>\n",
       "      <td>1</td>\n",
       "      <td>0</td>\n",
       "    </tr>\n",
       "    <tr>\n",
       "      <th>2</th>\n",
       "      <td>72</td>\n",
       "      <td>3.69</td>\n",
       "      <td>0</td>\n",
       "      <td>0</td>\n",
       "    </tr>\n",
       "    <tr>\n",
       "      <th>3</th>\n",
       "      <td>63</td>\n",
       "      <td>3.24</td>\n",
       "      <td>0</td>\n",
       "      <td>0</td>\n",
       "    </tr>\n",
       "    <tr>\n",
       "      <th>4</th>\n",
       "      <td>65</td>\n",
       "      <td>3.21</td>\n",
       "      <td>0</td>\n",
       "      <td>0</td>\n",
       "    </tr>\n",
       "    <tr>\n",
       "      <th>...</th>\n",
       "      <td>...</td>\n",
       "      <td>...</td>\n",
       "      <td>...</td>\n",
       "      <td>...</td>\n",
       "    </tr>\n",
       "    <tr>\n",
       "      <th>115</th>\n",
       "      <td>66</td>\n",
       "      <td>3.27</td>\n",
       "      <td>0</td>\n",
       "      <td>0</td>\n",
       "    </tr>\n",
       "    <tr>\n",
       "      <th>116</th>\n",
       "      <td>63</td>\n",
       "      <td>2.86</td>\n",
       "      <td>1</td>\n",
       "      <td>0</td>\n",
       "    </tr>\n",
       "    <tr>\n",
       "      <th>117</th>\n",
       "      <td>78</td>\n",
       "      <td>3.04</td>\n",
       "      <td>1</td>\n",
       "      <td>1</td>\n",
       "    </tr>\n",
       "    <tr>\n",
       "      <th>118</th>\n",
       "      <td>64</td>\n",
       "      <td>2.99</td>\n",
       "      <td>0</td>\n",
       "      <td>0</td>\n",
       "    </tr>\n",
       "    <tr>\n",
       "      <th>119</th>\n",
       "      <td>66</td>\n",
       "      <td>3.65</td>\n",
       "      <td>0</td>\n",
       "      <td>0</td>\n",
       "    </tr>\n",
       "  </tbody>\n",
       "</table>\n",
       "<p>120 rows × 4 columns</p>\n",
       "</div>"
      ],
      "text/plain": [
       "     Salary   GPA  MIS  Statistics\n",
       "0        72  3.53    1           0\n",
       "1        66  2.86    1           0\n",
       "2        72  3.69    0           0\n",
       "3        63  3.24    0           0\n",
       "4        65  3.21    0           0\n",
       "..      ...   ...  ...         ...\n",
       "115      66  3.27    0           0\n",
       "116      63  2.86    1           0\n",
       "117      78  3.04    1           1\n",
       "118      64  2.99    0           0\n",
       "119      66  3.65    0           0\n",
       "\n",
       "[120 rows x 4 columns]"
      ]
     },
     "execution_count": 14,
     "metadata": {},
     "output_type": "execute_result"
    }
   ],
   "source": [
    "sallaryMisDf"
   ]
  },
  {
   "cell_type": "code",
   "execution_count": 15,
   "id": "a69d9ed0-38e2-4470-bfc3-21b0b84cfa2c",
   "metadata": {},
   "outputs": [
    {
     "data": {
      "text/plain": [
       "(120, 4)"
      ]
     },
     "execution_count": 15,
     "metadata": {},
     "output_type": "execute_result"
    }
   ],
   "source": [
    "sallaryMisDf.shape"
   ]
  },
  {
   "cell_type": "code",
   "execution_count": 16,
   "id": "5219a144-9e69-4315-b8df-930727cdc53e",
   "metadata": {},
   "outputs": [
    {
     "data": {
      "text/html": [
       "<div>\n",
       "<style scoped>\n",
       "    .dataframe tbody tr th:only-of-type {\n",
       "        vertical-align: middle;\n",
       "    }\n",
       "\n",
       "    .dataframe tbody tr th {\n",
       "        vertical-align: top;\n",
       "    }\n",
       "\n",
       "    .dataframe thead th {\n",
       "        text-align: right;\n",
       "    }\n",
       "</style>\n",
       "<table border=\"1\" class=\"dataframe\">\n",
       "  <thead>\n",
       "    <tr style=\"text-align: right;\">\n",
       "      <th></th>\n",
       "      <th>Salary</th>\n",
       "      <th>GPA</th>\n",
       "      <th>MIS</th>\n",
       "      <th>Statistics</th>\n",
       "    </tr>\n",
       "  </thead>\n",
       "  <tbody>\n",
       "    <tr>\n",
       "      <th>count</th>\n",
       "      <td>120.000000</td>\n",
       "      <td>120.000000</td>\n",
       "      <td>120.000000</td>\n",
       "      <td>120.000000</td>\n",
       "    </tr>\n",
       "    <tr>\n",
       "      <th>mean</th>\n",
       "      <td>69.875000</td>\n",
       "      <td>3.242750</td>\n",
       "      <td>0.316667</td>\n",
       "      <td>0.341667</td>\n",
       "    </tr>\n",
       "    <tr>\n",
       "      <th>std</th>\n",
       "      <td>6.594577</td>\n",
       "      <td>0.493834</td>\n",
       "      <td>0.467127</td>\n",
       "      <td>0.476257</td>\n",
       "    </tr>\n",
       "    <tr>\n",
       "      <th>min</th>\n",
       "      <td>53.000000</td>\n",
       "      <td>2.410000</td>\n",
       "      <td>0.000000</td>\n",
       "      <td>0.000000</td>\n",
       "    </tr>\n",
       "    <tr>\n",
       "      <th>25%</th>\n",
       "      <td>65.750000</td>\n",
       "      <td>2.805000</td>\n",
       "      <td>0.000000</td>\n",
       "      <td>0.000000</td>\n",
       "    </tr>\n",
       "    <tr>\n",
       "      <th>50%</th>\n",
       "      <td>70.000000</td>\n",
       "      <td>3.280000</td>\n",
       "      <td>0.000000</td>\n",
       "      <td>0.000000</td>\n",
       "    </tr>\n",
       "    <tr>\n",
       "      <th>75%</th>\n",
       "      <td>73.250000</td>\n",
       "      <td>3.692500</td>\n",
       "      <td>1.000000</td>\n",
       "      <td>1.000000</td>\n",
       "    </tr>\n",
       "    <tr>\n",
       "      <th>max</th>\n",
       "      <td>88.000000</td>\n",
       "      <td>3.980000</td>\n",
       "      <td>1.000000</td>\n",
       "      <td>1.000000</td>\n",
       "    </tr>\n",
       "  </tbody>\n",
       "</table>\n",
       "</div>"
      ],
      "text/plain": [
       "           Salary         GPA         MIS  Statistics\n",
       "count  120.000000  120.000000  120.000000  120.000000\n",
       "mean    69.875000    3.242750    0.316667    0.341667\n",
       "std      6.594577    0.493834    0.467127    0.476257\n",
       "min     53.000000    2.410000    0.000000    0.000000\n",
       "25%     65.750000    2.805000    0.000000    0.000000\n",
       "50%     70.000000    3.280000    0.000000    0.000000\n",
       "75%     73.250000    3.692500    1.000000    1.000000\n",
       "max     88.000000    3.980000    1.000000    1.000000"
      ]
     },
     "execution_count": 16,
     "metadata": {},
     "output_type": "execute_result"
    }
   ],
   "source": [
    "sallaryMisDf.describe()"
   ]
  },
  {
   "cell_type": "code",
   "execution_count": 17,
   "id": "74580721-0859-4644-90e8-ef2b172c0e53",
   "metadata": {},
   "outputs": [
    {
     "data": {
      "text/plain": [
       "(120, 4)"
      ]
     },
     "execution_count": 17,
     "metadata": {},
     "output_type": "execute_result"
    }
   ],
   "source": [
    "sallaryMisDf.shape"
   ]
  },
  {
   "cell_type": "code",
   "execution_count": 18,
   "id": "81c821c8-d191-4262-b2e5-6d3c577d0b5a",
   "metadata": {},
   "outputs": [],
   "source": [
    "def salaryRegModel1Transformer(dataForTransfer = None):\n",
    "    import pandas as pd\n",
    "    import statsmodels.api as sm\n",
    "    if isinstance(dataForTransfer, pd.DataFrame):\n",
    "        df = dataForTransfer.copy()\n",
    "    else:\n",
    "        df = pd.DataFrame(dataForTransfer)\n",
    "    dfTransformer = sm.add_constant(df[['GPA', 'MIS', 'Statistics']],has_constant='add')\n",
    "    return dfTransformer"
   ]
  },
  {
   "cell_type": "code",
   "execution_count": 19,
   "id": "299fdc46-94c5-4fae-87b9-52f24f35911e",
   "metadata": {},
   "outputs": [
    {
     "data": {
      "text/html": [
       "<div>\n",
       "<style scoped>\n",
       "    .dataframe tbody tr th:only-of-type {\n",
       "        vertical-align: middle;\n",
       "    }\n",
       "\n",
       "    .dataframe tbody tr th {\n",
       "        vertical-align: top;\n",
       "    }\n",
       "\n",
       "    .dataframe thead th {\n",
       "        text-align: right;\n",
       "    }\n",
       "</style>\n",
       "<table border=\"1\" class=\"dataframe\">\n",
       "  <thead>\n",
       "    <tr style=\"text-align: right;\">\n",
       "      <th></th>\n",
       "      <th>const</th>\n",
       "      <th>GPA</th>\n",
       "      <th>MIS</th>\n",
       "      <th>Statistics</th>\n",
       "    </tr>\n",
       "  </thead>\n",
       "  <tbody>\n",
       "    <tr>\n",
       "      <th>0</th>\n",
       "      <td>1.0</td>\n",
       "      <td>3.53</td>\n",
       "      <td>1</td>\n",
       "      <td>0</td>\n",
       "    </tr>\n",
       "    <tr>\n",
       "      <th>1</th>\n",
       "      <td>1.0</td>\n",
       "      <td>2.86</td>\n",
       "      <td>1</td>\n",
       "      <td>0</td>\n",
       "    </tr>\n",
       "    <tr>\n",
       "      <th>2</th>\n",
       "      <td>1.0</td>\n",
       "      <td>3.69</td>\n",
       "      <td>0</td>\n",
       "      <td>0</td>\n",
       "    </tr>\n",
       "    <tr>\n",
       "      <th>3</th>\n",
       "      <td>1.0</td>\n",
       "      <td>3.24</td>\n",
       "      <td>0</td>\n",
       "      <td>0</td>\n",
       "    </tr>\n",
       "    <tr>\n",
       "      <th>4</th>\n",
       "      <td>1.0</td>\n",
       "      <td>3.21</td>\n",
       "      <td>0</td>\n",
       "      <td>0</td>\n",
       "    </tr>\n",
       "    <tr>\n",
       "      <th>...</th>\n",
       "      <td>...</td>\n",
       "      <td>...</td>\n",
       "      <td>...</td>\n",
       "      <td>...</td>\n",
       "    </tr>\n",
       "    <tr>\n",
       "      <th>115</th>\n",
       "      <td>1.0</td>\n",
       "      <td>3.27</td>\n",
       "      <td>0</td>\n",
       "      <td>0</td>\n",
       "    </tr>\n",
       "    <tr>\n",
       "      <th>116</th>\n",
       "      <td>1.0</td>\n",
       "      <td>2.86</td>\n",
       "      <td>1</td>\n",
       "      <td>0</td>\n",
       "    </tr>\n",
       "    <tr>\n",
       "      <th>117</th>\n",
       "      <td>1.0</td>\n",
       "      <td>3.04</td>\n",
       "      <td>1</td>\n",
       "      <td>1</td>\n",
       "    </tr>\n",
       "    <tr>\n",
       "      <th>118</th>\n",
       "      <td>1.0</td>\n",
       "      <td>2.99</td>\n",
       "      <td>0</td>\n",
       "      <td>0</td>\n",
       "    </tr>\n",
       "    <tr>\n",
       "      <th>119</th>\n",
       "      <td>1.0</td>\n",
       "      <td>3.65</td>\n",
       "      <td>0</td>\n",
       "      <td>0</td>\n",
       "    </tr>\n",
       "  </tbody>\n",
       "</table>\n",
       "<p>120 rows × 4 columns</p>\n",
       "</div>"
      ],
      "text/plain": [
       "     const   GPA  MIS  Statistics\n",
       "0      1.0  3.53    1           0\n",
       "1      1.0  2.86    1           0\n",
       "2      1.0  3.69    0           0\n",
       "3      1.0  3.24    0           0\n",
       "4      1.0  3.21    0           0\n",
       "..     ...   ...  ...         ...\n",
       "115    1.0  3.27    0           0\n",
       "116    1.0  2.86    1           0\n",
       "117    1.0  3.04    1           1\n",
       "118    1.0  2.99    0           0\n",
       "119    1.0  3.65    0           0\n",
       "\n",
       "[120 rows x 4 columns]"
      ]
     },
     "execution_count": 19,
     "metadata": {},
     "output_type": "execute_result"
    }
   ],
   "source": [
    "sm.add_constant(sallaryMisDf[[\"GPA\", \"MIS\", \"Statistics\"]])"
   ]
  },
  {
   "cell_type": "code",
   "execution_count": 20,
   "id": "dba09139-2b89-43d1-9b4d-53e0db9a870b",
   "metadata": {},
   "outputs": [
    {
     "data": {
      "text/html": [
       "<div>\n",
       "<style scoped>\n",
       "    .dataframe tbody tr th:only-of-type {\n",
       "        vertical-align: middle;\n",
       "    }\n",
       "\n",
       "    .dataframe tbody tr th {\n",
       "        vertical-align: top;\n",
       "    }\n",
       "\n",
       "    .dataframe thead th {\n",
       "        text-align: right;\n",
       "    }\n",
       "</style>\n",
       "<table border=\"1\" class=\"dataframe\">\n",
       "  <thead>\n",
       "    <tr style=\"text-align: right;\">\n",
       "      <th></th>\n",
       "      <th>const</th>\n",
       "      <th>GPA</th>\n",
       "      <th>MIS</th>\n",
       "      <th>Statistics</th>\n",
       "    </tr>\n",
       "  </thead>\n",
       "  <tbody>\n",
       "    <tr>\n",
       "      <th>0</th>\n",
       "      <td>1.0</td>\n",
       "      <td>3.53</td>\n",
       "      <td>1</td>\n",
       "      <td>0</td>\n",
       "    </tr>\n",
       "    <tr>\n",
       "      <th>1</th>\n",
       "      <td>1.0</td>\n",
       "      <td>2.86</td>\n",
       "      <td>1</td>\n",
       "      <td>0</td>\n",
       "    </tr>\n",
       "    <tr>\n",
       "      <th>2</th>\n",
       "      <td>1.0</td>\n",
       "      <td>3.69</td>\n",
       "      <td>0</td>\n",
       "      <td>0</td>\n",
       "    </tr>\n",
       "    <tr>\n",
       "      <th>3</th>\n",
       "      <td>1.0</td>\n",
       "      <td>3.24</td>\n",
       "      <td>0</td>\n",
       "      <td>0</td>\n",
       "    </tr>\n",
       "    <tr>\n",
       "      <th>4</th>\n",
       "      <td>1.0</td>\n",
       "      <td>3.21</td>\n",
       "      <td>0</td>\n",
       "      <td>0</td>\n",
       "    </tr>\n",
       "    <tr>\n",
       "      <th>...</th>\n",
       "      <td>...</td>\n",
       "      <td>...</td>\n",
       "      <td>...</td>\n",
       "      <td>...</td>\n",
       "    </tr>\n",
       "    <tr>\n",
       "      <th>115</th>\n",
       "      <td>1.0</td>\n",
       "      <td>3.27</td>\n",
       "      <td>0</td>\n",
       "      <td>0</td>\n",
       "    </tr>\n",
       "    <tr>\n",
       "      <th>116</th>\n",
       "      <td>1.0</td>\n",
       "      <td>2.86</td>\n",
       "      <td>1</td>\n",
       "      <td>0</td>\n",
       "    </tr>\n",
       "    <tr>\n",
       "      <th>117</th>\n",
       "      <td>1.0</td>\n",
       "      <td>3.04</td>\n",
       "      <td>1</td>\n",
       "      <td>1</td>\n",
       "    </tr>\n",
       "    <tr>\n",
       "      <th>118</th>\n",
       "      <td>1.0</td>\n",
       "      <td>2.99</td>\n",
       "      <td>0</td>\n",
       "      <td>0</td>\n",
       "    </tr>\n",
       "    <tr>\n",
       "      <th>119</th>\n",
       "      <td>1.0</td>\n",
       "      <td>3.65</td>\n",
       "      <td>0</td>\n",
       "      <td>0</td>\n",
       "    </tr>\n",
       "  </tbody>\n",
       "</table>\n",
       "<p>120 rows × 4 columns</p>\n",
       "</div>"
      ],
      "text/plain": [
       "     const   GPA  MIS  Statistics\n",
       "0      1.0  3.53    1           0\n",
       "1      1.0  2.86    1           0\n",
       "2      1.0  3.69    0           0\n",
       "3      1.0  3.24    0           0\n",
       "4      1.0  3.21    0           0\n",
       "..     ...   ...  ...         ...\n",
       "115    1.0  3.27    0           0\n",
       "116    1.0  2.86    1           0\n",
       "117    1.0  3.04    1           1\n",
       "118    1.0  2.99    0           0\n",
       "119    1.0  3.65    0           0\n",
       "\n",
       "[120 rows x 4 columns]"
      ]
     },
     "execution_count": 20,
     "metadata": {},
     "output_type": "execute_result"
    }
   ],
   "source": [
    "salaryRegModel1Transformer(sallaryMisDf)"
   ]
  },
  {
   "cell_type": "code",
   "execution_count": 21,
   "id": "f9f2ebc5-ad03-42c5-a694-6638d0b1ec38",
   "metadata": {},
   "outputs": [],
   "source": [
    "# salaryRegModel1 = sm.OLS(\n",
    "#   sallaryMisDf[\"Salary\"],\n",
    "#   sm.add_constant(sallaryMisDf[[\"GPA\", \"MIS\", \"Statistics\"]])\n",
    "# )"
   ]
  },
  {
   "cell_type": "code",
   "execution_count": 22,
   "id": "f018a9d4-ea7a-4cf8-88da-1643c4e6975f",
   "metadata": {},
   "outputs": [],
   "source": [
    "salaryRegModel1 = sm.OLS(\n",
    "  sallaryMisDf[\"Salary\"],\n",
    "  salaryRegModel1Transformer(sallaryMisDf)\n",
    ")"
   ]
  },
  {
   "cell_type": "code",
   "execution_count": 23,
   "id": "412c9836-3f88-4cf5-84c1-410cf92fbc81",
   "metadata": {},
   "outputs": [],
   "source": [
    "    salaryRegModel1Fit = salaryRegModel1.fit()"
   ]
  },
  {
   "cell_type": "code",
   "execution_count": 24,
   "id": "e604a267-4174-4930-9bb2-cecd59128c55",
   "metadata": {},
   "outputs": [
    {
     "name": "stdout",
     "output_type": "stream",
     "text": [
      "                            OLS Regression Results                            \n",
      "==============================================================================\n",
      "Dep. Variable:                 Salary   R-squared:                       0.795\n",
      "Model:                            OLS   Adj. R-squared:                  0.790\n",
      "Method:                 Least Squares   F-statistic:                     150.3\n",
      "Date:                Thu, 03 Jul 2025   Prob (F-statistic):           8.35e-40\n",
      "Time:                        20:52:56   Log-Likelihood:                -300.92\n",
      "No. Observations:                 120   AIC:                             609.8\n",
      "Df Residuals:                     116   BIC:                             621.0\n",
      "Df Model:                           3                                         \n",
      "Covariance Type:            nonrobust                                         \n",
      "==============================================================================\n",
      "                 coef    std err          t      P>|t|      [0.025      0.975]\n",
      "------------------------------------------------------------------------------\n",
      "const         44.0072      1.860     23.662      0.000      40.324      47.691\n",
      "GPA            6.6227      0.569     11.649      0.000       5.497       7.749\n",
      "MIS            6.6071      0.595     11.098      0.000       5.428       7.786\n",
      "Statistics     6.7309      0.591     11.391      0.000       5.561       7.901\n",
      "==============================================================================\n",
      "Omnibus:                        1.144   Durbin-Watson:                   2.164\n",
      "Prob(Omnibus):                  0.564   Jarque-Bera (JB):                0.758\n",
      "Skew:                          -0.172   Prob(JB):                        0.685\n",
      "Kurtosis:                       3.182   Cond. No.                         24.4\n",
      "==============================================================================\n",
      "\n",
      "Notes:\n",
      "[1] Standard Errors assume that the covariance matrix of the errors is correctly specified.\n"
     ]
    }
   ],
   "source": [
    "print(salaryRegModel1Fit.summary())"
   ]
  },
  {
   "cell_type": "code",
   "execution_count": 25,
   "id": "532535d8-4c8e-46c4-b4ae-fbdfcdb59747",
   "metadata": {},
   "outputs": [
    {
     "data": {
      "text/html": [
       "<div>\n",
       "<style scoped>\n",
       "    .dataframe tbody tr th:only-of-type {\n",
       "        vertical-align: middle;\n",
       "    }\n",
       "\n",
       "    .dataframe tbody tr th {\n",
       "        vertical-align: top;\n",
       "    }\n",
       "\n",
       "    .dataframe thead th {\n",
       "        text-align: right;\n",
       "    }\n",
       "</style>\n",
       "<table border=\"1\" class=\"dataframe\">\n",
       "  <thead>\n",
       "    <tr style=\"text-align: right;\">\n",
       "      <th></th>\n",
       "      <th>Salary</th>\n",
       "      <th>GPA</th>\n",
       "      <th>MIS</th>\n",
       "      <th>Statistics</th>\n",
       "    </tr>\n",
       "  </thead>\n",
       "  <tbody>\n",
       "    <tr>\n",
       "      <th>0</th>\n",
       "      <td>72</td>\n",
       "      <td>3.53</td>\n",
       "      <td>1</td>\n",
       "      <td>0</td>\n",
       "    </tr>\n",
       "    <tr>\n",
       "      <th>1</th>\n",
       "      <td>66</td>\n",
       "      <td>2.86</td>\n",
       "      <td>1</td>\n",
       "      <td>0</td>\n",
       "    </tr>\n",
       "    <tr>\n",
       "      <th>2</th>\n",
       "      <td>72</td>\n",
       "      <td>3.69</td>\n",
       "      <td>0</td>\n",
       "      <td>0</td>\n",
       "    </tr>\n",
       "    <tr>\n",
       "      <th>3</th>\n",
       "      <td>63</td>\n",
       "      <td>3.24</td>\n",
       "      <td>0</td>\n",
       "      <td>0</td>\n",
       "    </tr>\n",
       "    <tr>\n",
       "      <th>4</th>\n",
       "      <td>65</td>\n",
       "      <td>3.21</td>\n",
       "      <td>0</td>\n",
       "      <td>0</td>\n",
       "    </tr>\n",
       "    <tr>\n",
       "      <th>...</th>\n",
       "      <td>...</td>\n",
       "      <td>...</td>\n",
       "      <td>...</td>\n",
       "      <td>...</td>\n",
       "    </tr>\n",
       "    <tr>\n",
       "      <th>115</th>\n",
       "      <td>66</td>\n",
       "      <td>3.27</td>\n",
       "      <td>0</td>\n",
       "      <td>0</td>\n",
       "    </tr>\n",
       "    <tr>\n",
       "      <th>116</th>\n",
       "      <td>63</td>\n",
       "      <td>2.86</td>\n",
       "      <td>1</td>\n",
       "      <td>0</td>\n",
       "    </tr>\n",
       "    <tr>\n",
       "      <th>117</th>\n",
       "      <td>78</td>\n",
       "      <td>3.04</td>\n",
       "      <td>1</td>\n",
       "      <td>1</td>\n",
       "    </tr>\n",
       "    <tr>\n",
       "      <th>118</th>\n",
       "      <td>64</td>\n",
       "      <td>2.99</td>\n",
       "      <td>0</td>\n",
       "      <td>0</td>\n",
       "    </tr>\n",
       "    <tr>\n",
       "      <th>119</th>\n",
       "      <td>66</td>\n",
       "      <td>3.65</td>\n",
       "      <td>0</td>\n",
       "      <td>0</td>\n",
       "    </tr>\n",
       "  </tbody>\n",
       "</table>\n",
       "<p>120 rows × 4 columns</p>\n",
       "</div>"
      ],
      "text/plain": [
       "     Salary   GPA  MIS  Statistics\n",
       "0        72  3.53    1           0\n",
       "1        66  2.86    1           0\n",
       "2        72  3.69    0           0\n",
       "3        63  3.24    0           0\n",
       "4        65  3.21    0           0\n",
       "..      ...   ...  ...         ...\n",
       "115      66  3.27    0           0\n",
       "116      63  2.86    1           0\n",
       "117      78  3.04    1           1\n",
       "118      64  2.99    0           0\n",
       "119      66  3.65    0           0\n",
       "\n",
       "[120 rows x 4 columns]"
      ]
     },
     "execution_count": 25,
     "metadata": {},
     "output_type": "execute_result"
    }
   ],
   "source": [
    "sallaryMisDf"
   ]
  },
  {
   "cell_type": "code",
   "execution_count": 26,
   "id": "da5ba7d2-498f-463c-9bcb-9cc3326f3246",
   "metadata": {},
   "outputs": [],
   "source": [
    "salaryRegModel1SampleData = {\n",
    "    \"GPA\": [3.53],\n",
    "    \"MIS\": [1],\n",
    "    \"Statistics\": [0]\n",
    "}"
   ]
  },
  {
   "cell_type": "code",
   "execution_count": 27,
   "id": "1c7d8959-f5bd-4e63-a100-9f72752fee21",
   "metadata": {},
   "outputs": [],
   "source": [
    "salaryRegModel1Fit.transformer = salaryRegModel1Transformer"
   ]
  },
  {
   "cell_type": "code",
   "execution_count": 28,
   "id": "0d8127fa-3ced-45ac-954a-bee39c0a5101",
   "metadata": {},
   "outputs": [
    {
     "data": {
      "text/html": [
       "<div>\n",
       "<style scoped>\n",
       "    .dataframe tbody tr th:only-of-type {\n",
       "        vertical-align: middle;\n",
       "    }\n",
       "\n",
       "    .dataframe tbody tr th {\n",
       "        vertical-align: top;\n",
       "    }\n",
       "\n",
       "    .dataframe thead th {\n",
       "        text-align: right;\n",
       "    }\n",
       "</style>\n",
       "<table border=\"1\" class=\"dataframe\">\n",
       "  <thead>\n",
       "    <tr style=\"text-align: right;\">\n",
       "      <th></th>\n",
       "      <th>const</th>\n",
       "      <th>GPA</th>\n",
       "      <th>MIS</th>\n",
       "      <th>Statistics</th>\n",
       "    </tr>\n",
       "  </thead>\n",
       "  <tbody>\n",
       "    <tr>\n",
       "      <th>0</th>\n",
       "      <td>1.0</td>\n",
       "      <td>3.53</td>\n",
       "      <td>1</td>\n",
       "      <td>0</td>\n",
       "    </tr>\n",
       "  </tbody>\n",
       "</table>\n",
       "</div>"
      ],
      "text/plain": [
       "   const   GPA  MIS  Statistics\n",
       "0    1.0  3.53    1           0"
      ]
     },
     "execution_count": 28,
     "metadata": {},
     "output_type": "execute_result"
    }
   ],
   "source": [
    "test1 = salaryRegModel1Fit.transformer(salaryRegModel1SampleData)\n",
    "test1\n",
    "# salaryRegModel1Fit.mainPredictor(test1)"
   ]
  },
  {
   "cell_type": "code",
   "execution_count": 29,
   "id": "57ffe99a-6710-4307-a1b8-51066e859946",
   "metadata": {},
   "outputs": [],
   "source": [
    "# def generalRegressionPredictor(self, transformedData):\n",
    "#     return self.predict(transformedData)"
   ]
  },
  {
   "cell_type": "code",
   "execution_count": 30,
   "id": "c23c3812-84bc-4b72-ab53-8fa811df9efe",
   "metadata": {},
   "outputs": [],
   "source": [
    "salaryRegModel1Fit.mainPredictor = partial(generalRegressionPredictor, salaryRegModel1Fit)"
   ]
  },
  {
   "cell_type": "code",
   "execution_count": 31,
   "id": "dc10a2ff-0cb8-4eb9-b1cb-b1ea93099666",
   "metadata": {},
   "outputs": [
    {
     "data": {
      "text/plain": [
       "0    73.992468\n",
       "dtype: float64"
      ]
     },
     "execution_count": 31,
     "metadata": {},
     "output_type": "execute_result"
    }
   ],
   "source": [
    "salaryRegModel1Fit.mainPredictor(test1)"
   ]
  },
  {
   "cell_type": "code",
   "execution_count": 32,
   "id": "a68edd3a-22da-4b26-84b0-6e7d403d19ac",
   "metadata": {},
   "outputs": [
    {
     "data": {
      "text/plain": [
       "{'modelName': 'saadet_doga_hascelik__salaryRegModel1Fit',\n",
       " 'version': '1.0.1',\n",
       " 'params': {'const': 44.007246340574866,\n",
       "  'GPA': 6.622706150356171,\n",
       "  'MIS': 6.607068893822081,\n",
       "  'Statistics': 6.730931143358019},\n",
       " 'score': 0.7953924097617404,\n",
       " 'modelLibraray': 'sm.OLS',\n",
       " 'libraryMetadata': {'pvalues': {'const': 3.2704010980896686e-46,\n",
       "   'GPA': 3.0777930774062217e-21,\n",
       "   'MIS': 6.058766938187725e-20,\n",
       "   'Statistics': 1.2379781357347966e-20},\n",
       "  'r_squared': 0.7953924097617404,\n",
       "  'adj_r_squared': 0.7901008341521303},\n",
       " 'sampleData': {'dataForTransfer': {'GPA': [3.53],\n",
       "   'MIS': [1],\n",
       "   'Statistics': [0]}}}"
      ]
     },
     "execution_count": 32,
     "metadata": {},
     "output_type": "execute_result"
    }
   ],
   "source": [
    "salaryRegModel1FitMetadata = {\n",
    "    \"modelName\":f\"saadet_doga_hascelik__salaryRegModel1Fit\",\n",
    "    \"version\":\"1.0.1\",\n",
    "    \"params\": salaryRegModel1Fit.params.to_dict(),\n",
    "    \"score\": float(salaryRegModel1Fit.rsquared),\n",
    "    \"modelLibraray\": 'sm.OLS',\n",
    "    \"libraryMetadata\": {\n",
    "        \"pvalues\": salaryRegModel1Fit.pvalues.to_dict(),\n",
    "        \"r_squared\": float(salaryRegModel1Fit.rsquared),\n",
    "        \"adj_r_squared\": float(salaryRegModel1Fit.rsquared_adj)\n",
    "    },\n",
    "\n",
    "    \"sampleData\": {\n",
    "        \"dataForTransfer\": salaryRegModel1SampleData\n",
    "    }\n",
    "}\n",
    "salaryRegModel1FitMetadata"
   ]
  },
  {
   "cell_type": "code",
   "execution_count": 33,
   "id": "615a56dd-7c43-47c5-8b7c-3784cb680c4e",
   "metadata": {},
   "outputs": [],
   "source": [
    "import sys\n",
    "sys.path.append('./')  # klasörün kendisini path'e ekler\n"
   ]
  },
  {
   "cell_type": "code",
   "execution_count": 34,
   "id": "68c07df1-b92f-47d2-9e01-641356e6d991",
   "metadata": {},
   "outputs": [
    {
     "ename": "InvalidRegionError",
     "evalue": "Provided region_name 'JRJ_MODEL_REGISTRY_S3_REGION' doesn't match a supported format.",
     "output_type": "error",
     "traceback": [
      "\u001b[31m---------------------------------------------------------------------------\u001b[39m",
      "\u001b[31mInvalidRegionError\u001b[39m                        Traceback (most recent call last)",
      "\u001b[36mCell\u001b[39m\u001b[36m \u001b[39m\u001b[32mIn[34]\u001b[39m\u001b[32m, line 1\u001b[39m\n\u001b[32m----> \u001b[39m\u001b[32m1\u001b[39m \u001b[43mregisterAJrjModel\u001b[49m\u001b[43m(\u001b[49m\u001b[43msalaryRegModel1Fit\u001b[49m\u001b[43m,\u001b[49m\u001b[43m \u001b[49m\u001b[43msalaryRegModel1FitMetadata\u001b[49m\u001b[43m)\u001b[49m\n",
      "\u001b[36mFile \u001b[39m\u001b[32m~/Desktop/assignment-2/jrjModelRegistry/jrjModelRegistry.py:136\u001b[39m, in \u001b[36mregisterAJrjModel\u001b[39m\u001b[34m(model, config)\u001b[39m\n\u001b[32m    134\u001b[39m config[\u001b[33m'\u001b[39m\u001b[33mzippedModelSizeBytes\u001b[39m\u001b[33m'\u001b[39m] = zip_path.stat().st_size\n\u001b[32m    135\u001b[39m \u001b[38;5;66;03m# Upload to S3 using pre-signed URL\u001b[39;00m\n\u001b[32m--> \u001b[39m\u001b[32m136\u001b[39m s3 = \u001b[43mboto3\u001b[49m\u001b[43m.\u001b[49m\u001b[43mclient\u001b[49m\u001b[43m(\u001b[49m\n\u001b[32m    137\u001b[39m \u001b[43m    \u001b[49m\u001b[33;43m\"\u001b[39;49m\u001b[33;43ms3\u001b[39;49m\u001b[33;43m\"\u001b[39;49m\u001b[43m,\u001b[49m\n\u001b[32m    138\u001b[39m \u001b[43m    \u001b[49m\u001b[43mendpoint_url\u001b[49m\u001b[43m \u001b[49m\u001b[43m=\u001b[49m\u001b[43m \u001b[49m\u001b[33;43mf\u001b[39;49m\u001b[33;43m'\u001b[39;49m\u001b[33;43mhttps://\u001b[39;49m\u001b[38;5;132;43;01m{\u001b[39;49;00m\u001b[43mjrjModelRegistryConfig\u001b[49m\u001b[43m.\u001b[49m\u001b[43mget\u001b[49m\u001b[43m(\u001b[49m\u001b[33;43m\"\u001b[39;49m\u001b[33;43ms3Endpoint\u001b[39;49m\u001b[33;43m\"\u001b[39;49m\u001b[43m)\u001b[49m\u001b[38;5;132;43;01m}\u001b[39;49;00m\u001b[33;43m'\u001b[39;49m\u001b[43m,\u001b[49m\n\u001b[32m    139\u001b[39m \u001b[43m    \u001b[49m\u001b[43mregion_name\u001b[49m\u001b[43m=\u001b[49m\u001b[43mjrjModelRegistryConfig\u001b[49m\u001b[43m.\u001b[49m\u001b[43mget\u001b[49m\u001b[43m(\u001b[49m\u001b[33;43m'\u001b[39;49m\u001b[33;43ms3Region\u001b[39;49m\u001b[33;43m'\u001b[39;49m\u001b[43m)\u001b[49m\u001b[43m,\u001b[49m\n\u001b[32m    140\u001b[39m \u001b[43m    \u001b[49m\u001b[43maws_access_key_id\u001b[49m\u001b[43m=\u001b[49m\u001b[43mjrjModelRegistryConfig\u001b[49m\u001b[43m.\u001b[49m\u001b[43mget\u001b[49m\u001b[43m(\u001b[49m\u001b[33;43m'\u001b[39;49m\u001b[33;43ms3KeyId\u001b[39;49m\u001b[33;43m'\u001b[39;49m\u001b[43m)\u001b[49m\u001b[43m,\u001b[49m\n\u001b[32m    141\u001b[39m \u001b[43m    \u001b[49m\u001b[43maws_secret_access_key\u001b[49m\u001b[43m=\u001b[49m\u001b[43mjrjModelRegistryConfig\u001b[49m\u001b[43m.\u001b[49m\u001b[43mget\u001b[49m\u001b[43m(\u001b[49m\u001b[33;43m'\u001b[39;49m\u001b[33;43ms3KeySecret\u001b[39;49m\u001b[33;43m'\u001b[39;49m\u001b[43m)\u001b[49m\u001b[43m,\u001b[49m\n\u001b[32m    142\u001b[39m \u001b[43m\u001b[49m\u001b[43m)\u001b[49m\n\u001b[32m    144\u001b[39m bucket_name = jrjModelRegistryConfig.get(\u001b[33m'\u001b[39m\u001b[33ms3BucketName\u001b[39m\u001b[33m'\u001b[39m)\n\u001b[32m    146\u001b[39m \u001b[38;5;28;01mtry\u001b[39;00m:\n",
      "\u001b[36mFile \u001b[39m\u001b[32m/Users/anaconda3/lib/python3.12/site-packages/boto3/__init__.py:92\u001b[39m, in \u001b[36mclient\u001b[39m\u001b[34m(*args, **kwargs)\u001b[39m\n\u001b[32m     86\u001b[39m \u001b[38;5;28;01mdef\u001b[39;00m\u001b[38;5;250m \u001b[39m\u001b[34mclient\u001b[39m(*args, **kwargs):\n\u001b[32m     87\u001b[39m \u001b[38;5;250m    \u001b[39m\u001b[33;03m\"\"\"\u001b[39;00m\n\u001b[32m     88\u001b[39m \u001b[33;03m    Create a low-level service client by name using the default session.\u001b[39;00m\n\u001b[32m     89\u001b[39m \n\u001b[32m     90\u001b[39m \u001b[33;03m    See :py:meth:`boto3.session.Session.client`.\u001b[39;00m\n\u001b[32m     91\u001b[39m \u001b[33;03m    \"\"\"\u001b[39;00m\n\u001b[32m---> \u001b[39m\u001b[32m92\u001b[39m     \u001b[38;5;28;01mreturn\u001b[39;00m \u001b[43m_get_default_session\u001b[49m\u001b[43m(\u001b[49m\u001b[43m)\u001b[49m\u001b[43m.\u001b[49m\u001b[43mclient\u001b[49m\u001b[43m(\u001b[49m\u001b[43m*\u001b[49m\u001b[43margs\u001b[49m\u001b[43m,\u001b[49m\u001b[43m \u001b[49m\u001b[43m*\u001b[49m\u001b[43m*\u001b[49m\u001b[43mkwargs\u001b[49m\u001b[43m)\u001b[49m\n",
      "\u001b[36mFile \u001b[39m\u001b[32m/Users/anaconda3/lib/python3.12/site-packages/boto3/session.py:322\u001b[39m, in \u001b[36mSession.client\u001b[39m\u001b[34m(self, service_name, region_name, api_version, use_ssl, verify, endpoint_url, aws_access_key_id, aws_secret_access_key, aws_session_token, config, aws_account_id)\u001b[39m\n\u001b[32m    235\u001b[39m \u001b[38;5;28;01mdef\u001b[39;00m\u001b[38;5;250m \u001b[39m\u001b[34mclient\u001b[39m(\n\u001b[32m    236\u001b[39m     \u001b[38;5;28mself\u001b[39m,\n\u001b[32m    237\u001b[39m     service_name,\n\u001b[32m   (...)\u001b[39m\u001b[32m    247\u001b[39m     aws_account_id=\u001b[38;5;28;01mNone\u001b[39;00m,\n\u001b[32m    248\u001b[39m ):\n\u001b[32m    249\u001b[39m \u001b[38;5;250m    \u001b[39m\u001b[33;03m\"\"\"\u001b[39;00m\n\u001b[32m    250\u001b[39m \u001b[33;03m    Create a low-level service client by name.\u001b[39;00m\n\u001b[32m    251\u001b[39m \n\u001b[32m   (...)\u001b[39m\u001b[32m    320\u001b[39m \n\u001b[32m    321\u001b[39m \u001b[33;03m    \"\"\"\u001b[39;00m\n\u001b[32m--> \u001b[39m\u001b[32m322\u001b[39m     \u001b[38;5;28;01mreturn\u001b[39;00m \u001b[38;5;28;43mself\u001b[39;49m\u001b[43m.\u001b[49m\u001b[43m_session\u001b[49m\u001b[43m.\u001b[49m\u001b[43mcreate_client\u001b[49m\u001b[43m(\u001b[49m\n\u001b[32m    323\u001b[39m \u001b[43m        \u001b[49m\u001b[43mservice_name\u001b[49m\u001b[43m,\u001b[49m\n\u001b[32m    324\u001b[39m \u001b[43m        \u001b[49m\u001b[43mregion_name\u001b[49m\u001b[43m=\u001b[49m\u001b[43mregion_name\u001b[49m\u001b[43m,\u001b[49m\n\u001b[32m    325\u001b[39m \u001b[43m        \u001b[49m\u001b[43mapi_version\u001b[49m\u001b[43m=\u001b[49m\u001b[43mapi_version\u001b[49m\u001b[43m,\u001b[49m\n\u001b[32m    326\u001b[39m \u001b[43m        \u001b[49m\u001b[43muse_ssl\u001b[49m\u001b[43m=\u001b[49m\u001b[43muse_ssl\u001b[49m\u001b[43m,\u001b[49m\n\u001b[32m    327\u001b[39m \u001b[43m        \u001b[49m\u001b[43mverify\u001b[49m\u001b[43m=\u001b[49m\u001b[43mverify\u001b[49m\u001b[43m,\u001b[49m\n\u001b[32m    328\u001b[39m \u001b[43m        \u001b[49m\u001b[43mendpoint_url\u001b[49m\u001b[43m=\u001b[49m\u001b[43mendpoint_url\u001b[49m\u001b[43m,\u001b[49m\n\u001b[32m    329\u001b[39m \u001b[43m        \u001b[49m\u001b[43maws_access_key_id\u001b[49m\u001b[43m=\u001b[49m\u001b[43maws_access_key_id\u001b[49m\u001b[43m,\u001b[49m\n\u001b[32m    330\u001b[39m \u001b[43m        \u001b[49m\u001b[43maws_secret_access_key\u001b[49m\u001b[43m=\u001b[49m\u001b[43maws_secret_access_key\u001b[49m\u001b[43m,\u001b[49m\n\u001b[32m    331\u001b[39m \u001b[43m        \u001b[49m\u001b[43maws_session_token\u001b[49m\u001b[43m=\u001b[49m\u001b[43maws_session_token\u001b[49m\u001b[43m,\u001b[49m\n\u001b[32m    332\u001b[39m \u001b[43m        \u001b[49m\u001b[43mconfig\u001b[49m\u001b[43m=\u001b[49m\u001b[43mconfig\u001b[49m\u001b[43m,\u001b[49m\n\u001b[32m    333\u001b[39m \u001b[43m        \u001b[49m\u001b[43maws_account_id\u001b[49m\u001b[43m=\u001b[49m\u001b[43maws_account_id\u001b[49m\u001b[43m,\u001b[49m\n\u001b[32m    334\u001b[39m \u001b[43m    \u001b[49m\u001b[43m)\u001b[49m\n",
      "\u001b[36mFile \u001b[39m\u001b[32m/Users/anaconda3/lib/python3.12/site-packages/botocore/context.py:123\u001b[39m, in \u001b[36mwith_current_context.<locals>.decorator.<locals>.wrapper\u001b[39m\u001b[34m(*args, **kwargs)\u001b[39m\n\u001b[32m    121\u001b[39m \u001b[38;5;28;01mif\u001b[39;00m hook:\n\u001b[32m    122\u001b[39m     hook()\n\u001b[32m--> \u001b[39m\u001b[32m123\u001b[39m \u001b[38;5;28;01mreturn\u001b[39;00m \u001b[43mfunc\u001b[49m\u001b[43m(\u001b[49m\u001b[43m*\u001b[49m\u001b[43margs\u001b[49m\u001b[43m,\u001b[49m\u001b[43m \u001b[49m\u001b[43m*\u001b[49m\u001b[43m*\u001b[49m\u001b[43mkwargs\u001b[49m\u001b[43m)\u001b[49m\n",
      "\u001b[36mFile \u001b[39m\u001b[32m/Users/anaconda3/lib/python3.12/site-packages/botocore/session.py:936\u001b[39m, in \u001b[36mSession.create_client\u001b[39m\u001b[34m(self, service_name, region_name, api_version, use_ssl, verify, endpoint_url, aws_access_key_id, aws_secret_access_key, aws_session_token, config, aws_account_id)\u001b[39m\n\u001b[32m    933\u001b[39m \u001b[38;5;28;01melif\u001b[39;00m default_client_config \u001b[38;5;129;01mis\u001b[39;00m \u001b[38;5;129;01mnot\u001b[39;00m \u001b[38;5;28;01mNone\u001b[39;00m:\n\u001b[32m    934\u001b[39m     config = default_client_config\n\u001b[32m--> \u001b[39m\u001b[32m936\u001b[39m region_name = \u001b[38;5;28;43mself\u001b[39;49m\u001b[43m.\u001b[49m\u001b[43m_resolve_region_name\u001b[49m\u001b[43m(\u001b[49m\u001b[43mregion_name\u001b[49m\u001b[43m,\u001b[49m\u001b[43m \u001b[49m\u001b[43mconfig\u001b[49m\u001b[43m)\u001b[49m\n\u001b[32m    938\u001b[39m \u001b[38;5;66;03m# Figure out the verify value base on the various\u001b[39;00m\n\u001b[32m    939\u001b[39m \u001b[38;5;66;03m# configuration options.\u001b[39;00m\n\u001b[32m    940\u001b[39m \u001b[38;5;28;01mif\u001b[39;00m verify \u001b[38;5;129;01mis\u001b[39;00m \u001b[38;5;28;01mNone\u001b[39;00m:\n",
      "\u001b[36mFile \u001b[39m\u001b[32m/Users/anaconda3/lib/python3.12/site-packages/botocore/session.py:1045\u001b[39m, in \u001b[36mSession._resolve_region_name\u001b[39m\u001b[34m(self, region_name, config)\u001b[39m\n\u001b[32m   1042\u001b[39m     \u001b[38;5;28;01melse\u001b[39;00m:\n\u001b[32m   1043\u001b[39m         region_name = \u001b[38;5;28mself\u001b[39m.get_config_variable(\u001b[33m'\u001b[39m\u001b[33mregion\u001b[39m\u001b[33m'\u001b[39m)\n\u001b[32m-> \u001b[39m\u001b[32m1045\u001b[39m \u001b[43mvalidate_region_name\u001b[49m\u001b[43m(\u001b[49m\u001b[43mregion_name\u001b[49m\u001b[43m)\u001b[49m\n\u001b[32m   1046\u001b[39m \u001b[38;5;66;03m# For any client that we create in retrieving credentials\u001b[39;00m\n\u001b[32m   1047\u001b[39m \u001b[38;5;66;03m# we want to create it using the same region as specified in\u001b[39;00m\n\u001b[32m   1048\u001b[39m \u001b[38;5;66;03m# creating this client. It is important to note though that the\u001b[39;00m\n\u001b[32m   (...)\u001b[39m\u001b[32m   1053\u001b[39m \u001b[38;5;66;03m# the credentials returned at regional endpoints are valid across\u001b[39;00m\n\u001b[32m   1054\u001b[39m \u001b[38;5;66;03m# all regions in the partition.\u001b[39;00m\n\u001b[32m   1055\u001b[39m \u001b[38;5;28mself\u001b[39m._last_client_region_used = region_name\n",
      "\u001b[36mFile \u001b[39m\u001b[32m/Users/anaconda3/lib/python3.12/site-packages/botocore/utils.py:1314\u001b[39m, in \u001b[36mvalidate_region_name\u001b[39m\u001b[34m(region_name)\u001b[39m\n\u001b[32m   1312\u001b[39m valid = valid_host_label.match(region_name)\n\u001b[32m   1313\u001b[39m \u001b[38;5;28;01mif\u001b[39;00m \u001b[38;5;129;01mnot\u001b[39;00m valid:\n\u001b[32m-> \u001b[39m\u001b[32m1314\u001b[39m     \u001b[38;5;28;01mraise\u001b[39;00m InvalidRegionError(region_name=region_name)\n",
      "\u001b[31mInvalidRegionError\u001b[39m: Provided region_name 'JRJ_MODEL_REGISTRY_S3_REGION' doesn't match a supported format."
     ]
    }
   ],
   "source": [
    "registerAJrjModel(salaryRegModel1Fit, salaryRegModel1FitMetadata)"
   ]
  },
  {
   "cell_type": "code",
   "execution_count": null,
   "id": "c469eb9a-65ae-401c-b042-a5566de095de",
   "metadata": {},
   "outputs": [],
   "source": [
    "sallaryMisDf"
   ]
  },
  {
   "cell_type": "code",
   "execution_count": null,
   "id": "bef410c3-df6e-44a0-98d7-6689dd78378f",
   "metadata": {},
   "outputs": [],
   "source": [
    "# sallaryMisDf[\"misXStatistics\"] = sallaryMisDf[\"MIS\"] * sallaryMisDf[\"Statistics\"]\n",
    "sallaryMisDf['misXStatistics'] = sallaryMisDf.apply(lambda row: row['MIS'] * row['Statistics'], axis=1)\n",
    "\n",
    "sallaryMisDf"
   ]
  },
  {
   "cell_type": "code",
   "execution_count": null,
   "id": "40de4640-72d1-4395-ab5c-d59a51caa3cd",
   "metadata": {},
   "outputs": [],
   "source": [
    "def salaryRegModel2Transformer(dataForTransfer = None):\n",
    "    import pandas as pd\n",
    "    import statsmodels.api as sm\n",
    "    if isinstance(dataForTransfer, pd.DataFrame):\n",
    "        df = dataForTransfer.copy()\n",
    "    else:\n",
    "        df = pd.DataFrame(dataForTransfer)\n",
    "    df['misXStatistics'] = df.apply(lambda row: row['MIS'] * row['Statistics'], axis=1)\n",
    "    dfTransformer = sm.add_constant(df[['GPA', 'MIS', 'Statistics', 'misXStatistics']],has_constant='add')\n",
    "    return dfTransformer"
   ]
  },
  {
   "cell_type": "code",
   "execution_count": null,
   "id": "8a49730e-383a-4064-b594-4d3e54d749a1",
   "metadata": {},
   "outputs": [],
   "source": [
    "salaryRegModel2Transformer(sallaryMisDf)"
   ]
  },
  {
   "cell_type": "code",
   "execution_count": null,
   "id": "c202e0a7-d558-4704-943b-e43b39feec6f",
   "metadata": {},
   "outputs": [],
   "source": [
    "salaryRegModel2 = sm.OLS(\n",
    "  sallaryMisDf[\"Salary\"],\n",
    "  salaryRegModel2Transformer(sallaryMisDf)\n",
    ")"
   ]
  },
  {
   "cell_type": "code",
   "execution_count": null,
   "id": "a9569f6e-4727-4187-b70f-3c9cf94220f5",
   "metadata": {},
   "outputs": [],
   "source": [
    "salaryRegModel2Fit = salaryRegModel2.fit()"
   ]
  },
  {
   "cell_type": "code",
   "execution_count": null,
   "id": "803f5f04-6fbd-4ab7-abd1-bcf200689f89",
   "metadata": {},
   "outputs": [],
   "source": [
    "print(salaryRegModel2Fit.summary())"
   ]
  },
  {
   "cell_type": "code",
   "execution_count": null,
   "id": "06ebe00c-faa0-4ecd-b83d-b0a6ecd68514",
   "metadata": {},
   "outputs": [],
   "source": [
    "salaryRegModel2Fit.transformer = salaryRegModel2Transformer"
   ]
  },
  {
   "cell_type": "code",
   "execution_count": null,
   "id": "3e09092e-748a-4605-9785-3219f0221264",
   "metadata": {},
   "outputs": [],
   "source": [
    "salaryRegModel2Fit.mainPredictor = partial(generalRegressionPredictor, salaryRegModel2Fit)"
   ]
  },
  {
   "cell_type": "code",
   "execution_count": null,
   "id": "ef3fcaf3-cc96-4bb2-b574-7ff92e4bad43",
   "metadata": {},
   "outputs": [],
   "source": [
    "test2 = salaryRegModel2Fit.transformer(salaryRegModel1SampleData)\n",
    "test2"
   ]
  },
  {
   "cell_type": "code",
   "execution_count": null,
   "id": "52c242ca-7ce0-4f5d-a9e4-d37f45f78396",
   "metadata": {},
   "outputs": [],
   "source": [
    "salaryRegModel2Fit.mainPredictor(test2)"
   ]
  },
  {
   "cell_type": "code",
   "execution_count": null,
   "id": "7d0810ac-541e-48b1-a888-6a4ebaf90414",
   "metadata": {},
   "outputs": [],
   "source": [
    "salaryRegModel2FitMetadata = {\n",
    "    \"modelName\":f\"saadet_doga_hascelik__salaryRegModel2Fit\",\n",
    "    \"version\":\"1.0.1\",\n",
    "    \"params\": salaryRegModel2Fit.params.to_dict(),\n",
    "    \"score\": float(salaryRegModel2Fit.rsquared),\n",
    "    \"modelLibraray\": 'sm.OLS',\n",
    "    \"libraryMetadata\": {\n",
    "        \"pvalues\": salaryRegModel2Fit.pvalues.to_dict(),\n",
    "        \"r_squared\": float(salaryRegModel2Fit.rsquared),\n",
    "        \"adj_r_squared\": float(salaryRegModel2Fit.rsquared_adj)\n",
    "    },\n",
    "\n",
    "    \"sampleData\": {\n",
    "        \"dataForTransfer\": salaryRegModel1SampleData\n",
    "    }\n",
    "}\n",
    "salaryRegModel2FitMetadata"
   ]
  },
  {
   "cell_type": "code",
   "execution_count": null,
   "id": "0f73e07b-5701-4f74-b55e-32029ff0f955",
   "metadata": {},
   "outputs": [],
   "source": [
    "registerAJrjModel(salaryRegModel2Fit, salaryRegModel2FitMetadata)"
   ]
  },
  {
   "cell_type": "code",
   "execution_count": null,
   "id": "1c9ea991-1b99-4de4-95b6-691fcb8b9670",
   "metadata": {},
   "outputs": [],
   "source": [
    "sallaryMisDf['misXGpa'] = sallaryMisDf.apply(lambda row: row['MIS'] * row['GPA'], axis=1)\n",
    "\n",
    "sallaryMisDf\n"
   ]
  },
  {
   "cell_type": "code",
   "execution_count": null,
   "id": "aaf8892b-f6f0-44a0-b111-0b06498bb0f3",
   "metadata": {},
   "outputs": [],
   "source": [
    "def salaryRegModel3Transformer(dataForTransfer = None):\n",
    "    import pandas as pd\n",
    "    import statsmodels.api as sm\n",
    "    if isinstance(dataForTransfer, pd.DataFrame):\n",
    "        df = dataForTransfer.copy()\n",
    "    else:\n",
    "        df = pd.DataFrame(dataForTransfer)\n",
    "    df['misXGpa'] = df.apply(lambda row: row['MIS'] * row['GPA'], axis=1)\n",
    "    dfTransformer = sm.add_constant(df[['GPA', 'MIS', 'Statistics', 'misXGpa']],has_constant='add')\n",
    "    return dfTransformer"
   ]
  },
  {
   "cell_type": "code",
   "execution_count": null,
   "id": "d99ae1c3-c61b-4b3f-86ec-a369b8d1c8cb",
   "metadata": {},
   "outputs": [],
   "source": [
    "salaryRegModel3Transformer(sallaryMisDf)"
   ]
  },
  {
   "cell_type": "code",
   "execution_count": null,
   "id": "079dd30c-b259-4d8c-b052-ccbd95c00228",
   "metadata": {},
   "outputs": [],
   "source": [
    "salaryRegModel3 = sm.OLS(\n",
    "  sallaryMisDf[\"Salary\"],\n",
    "  salaryRegModel3Transformer(sallaryMisDf)\n",
    ")"
   ]
  },
  {
   "cell_type": "code",
   "execution_count": null,
   "id": "1bd0c7dc-57db-486b-a986-8b46f0098764",
   "metadata": {},
   "outputs": [],
   "source": [
    "salaryRegModel3Fit = salaryRegModel3.fit()"
   ]
  },
  {
   "cell_type": "code",
   "execution_count": null,
   "id": "839d701f-e6e9-4a13-a611-03abeffa7daf",
   "metadata": {},
   "outputs": [],
   "source": [
    "print(salaryRegModel3Fit.summary())"
   ]
  },
  {
   "cell_type": "code",
   "execution_count": null,
   "id": "c1be5bd6-fa1d-4c1f-b2a2-e60c92eaa882",
   "metadata": {},
   "outputs": [],
   "source": [
    "salaryRegModel3Fit.transformer = salaryRegModel3Transformer\n",
    "salaryRegModel3Fit.mainPredictor = partial(generalRegressionPredictor, salaryRegModel3Fit)\n",
    "registerAJrjModel(\n",
    "    salaryRegModel3Fit,\n",
    "    {\n",
    "        \"modelName\":f\"saadet_doga_hascelik__salaryRegModel3Fit\",\n",
    "        \"version\":\"1.0.1\",\n",
    "        \"params\": salaryRegModel3Fit.params.to_dict(),\n",
    "        \"score\": float(salaryRegModel3Fit.rsquared),\n",
    "        \"modelLibraray\": 'sm.OLS',\n",
    "        \"libraryMetadata\": {\n",
    "            \"pvalues\": salaryRegModel3Fit.pvalues.to_dict(),\n",
    "            \"r_squared\": float(salaryRegModel3Fit.rsquared),\n",
    "            \"adj_r_squared\": float(salaryRegModel3Fit.rsquared_adj)\n",
    "        },\n",
    "    \n",
    "        \"sampleData\": {\n",
    "            \"dataForTransfer\": salaryRegModel1SampleData\n",
    "        }\n",
    "    }\n",
    ")\n"
   ]
  },
  {
   "cell_type": "code",
   "execution_count": null,
   "id": "f4b0552c-beec-480e-b06f-5f8eec606cc1",
   "metadata": {},
   "outputs": [],
   "source": [
    "sallaryMisDf['statisticsXGpa'] = sallaryMisDf.apply(lambda row: row['Statistics'] * row['GPA'], axis=1)\n",
    "\n",
    "sallaryMisDf"
   ]
  },
  {
   "cell_type": "code",
   "execution_count": null,
   "id": "8dd8f867-c0e1-4e3d-a4ec-5fc770c99a68",
   "metadata": {},
   "outputs": [],
   "source": [
    "def salaryRegModel4Transformer(dataForTransfer = None):\n",
    "    import pandas as pd\n",
    "    import statsmodels.api as sm\n",
    "    if isinstance(dataForTransfer, pd.DataFrame):\n",
    "        df = dataForTransfer.copy()\n",
    "    else:\n",
    "        df = pd.DataFrame(dataForTransfer)\n",
    "    df['statisticsXGpa'] = df.apply(lambda row: row['Statistics'] * row['GPA'], axis=1)\n",
    "    dfTransformer = sm.add_constant(df[['GPA', 'MIS', 'Statistics', 'statisticsXGpa']],has_constant='add')\n",
    "    return dfTransformer"
   ]
  },
  {
   "cell_type": "code",
   "execution_count": null,
   "id": "18ebdb71-fd7e-4a15-9cda-f8548b277824",
   "metadata": {},
   "outputs": [],
   "source": [
    "salaryRegModel4 = sm.OLS(\n",
    "  sallaryMisDf[\"Salary\"],\n",
    "  salaryRegModel4Transformer(sallaryMisDf)\n",
    ")"
   ]
  },
  {
   "cell_type": "code",
   "execution_count": null,
   "id": "776b0f8e-e871-48dc-af0e-fcbeb4fd5b17",
   "metadata": {},
   "outputs": [],
   "source": [
    "salaryRegModel4Fit = salaryRegModel4.fit()"
   ]
  },
  {
   "cell_type": "code",
   "execution_count": null,
   "id": "d26c6a1c-cb61-4595-a220-4f8f6bd1aa63",
   "metadata": {},
   "outputs": [],
   "source": [
    "print(salaryRegModel4Fit.summary())"
   ]
  },
  {
   "cell_type": "code",
   "execution_count": null,
   "id": "08d8b029-e1f0-41c5-8bfa-eb814e453a20",
   "metadata": {},
   "outputs": [],
   "source": [
    "salaryRegModel4Fit.transformer = salaryRegModel4Transformer\n",
    "salaryRegModel4Fit.mainPredictor = partial(generalRegressionPredictor, salaryRegModel4Fit)\n",
    "registerAJrjModel(\n",
    "    salaryRegModel4Fit,\n",
    "    {\n",
    "        \"modelName\":f\"saadet_doga_hascelik__salaryRegModel4Fit\",\n",
    "        \"version\":\"1.0.1\",\n",
    "        \"params\": salaryRegModel4Fit.params.to_dict(),\n",
    "        \"score\": float(salaryRegModel4Fit.rsquared),\n",
    "        \"modelLibraray\": 'sm.OLS',\n",
    "        \"libraryMetadata\": {\n",
    "            \"pvalues\": salaryRegModel4Fit.pvalues.to_dict(),\n",
    "            \"r_squared\": float(salaryRegModel4Fit.rsquared),\n",
    "            \"adj_r_squared\": float(salaryRegModel4Fit.rsquared_adj)\n",
    "        },\n",
    "    \n",
    "        \"sampleData\": {\n",
    "            \"dataForTransfer\": salaryRegModel1SampleData\n",
    "        }\n",
    "    }\n",
    ")"
   ]
  },
  {
   "cell_type": "code",
   "execution_count": null,
   "id": "3c605a96-06e1-4e08-9a3d-fc8aa9bb891b",
   "metadata": {},
   "outputs": [],
   "source": [
    "def salaryRegModel5Transformer(dataForTransfer = None):\n",
    "    import pandas as pd\n",
    "    import statsmodels.api as sm\n",
    "    if isinstance(dataForTransfer, pd.DataFrame):\n",
    "        df = dataForTransfer.copy()\n",
    "    else:\n",
    "        df = pd.DataFrame(dataForTransfer)\n",
    "    df['misXStatistics'] = df.apply(lambda row: row['MIS'] * row['Statistics'], axis=1)\n",
    "    df['misXGpa'] = df.apply(lambda row: row['MIS'] * row['GPA'], axis=1)\n",
    "    df['statisticsXGpa'] = df.apply(lambda row: row['Statistics'] * row['GPA'], axis=1)\n",
    "    df['misXStatisticsXGpa'] = df.apply(lambda row: row['MIS'] * row['Statistics'] * row['GPA'], axis=1)\n",
    "    dfTransformer = sm.add_constant(df[['GPA', 'MIS', 'Statistics', 'misXStatistics', 'misXGpa', 'statisticsXGpa', 'misXStatisticsXGpa']],has_constant='add')\n",
    "    return dfTransformer"
   ]
  },
  {
   "cell_type": "code",
   "execution_count": null,
   "id": "51491d80-ac4a-4177-aad6-1e8bb8b58766",
   "metadata": {},
   "outputs": [],
   "source": [
    "salaryRegModel5 = sm.OLS(\n",
    "  sallaryMisDf[\"Salary\"],\n",
    "  salaryRegModel5Transformer(sallaryMisDf)\n",
    ")"
   ]
  },
  {
   "cell_type": "code",
   "execution_count": null,
   "id": "38bc8e69-2e22-487b-a7a4-c6ac4d22ef2a",
   "metadata": {},
   "outputs": [],
   "source": [
    "salaryRegModel5Fit = salaryRegModel5.fit()"
   ]
  },
  {
   "cell_type": "code",
   "execution_count": null,
   "id": "db404344-d2bc-447c-b9fd-ccf12835dfc8",
   "metadata": {},
   "outputs": [],
   "source": [
    "print(salaryRegModel5Fit.summary())"
   ]
  },
  {
   "cell_type": "code",
   "execution_count": null,
   "id": "0968d8da-ac7a-4418-82ae-80acc4c9a111",
   "metadata": {},
   "outputs": [],
   "source": [
    "salaryRegModel5Fit.transformer = salaryRegModel5Transformer\n",
    "salaryRegModel5Fit.mainPredictor = partial(generalRegressionPredictor, salaryRegModel5Fit)\n",
    "registerAJrjModel(\n",
    "    salaryRegModel5Fit,\n",
    "    {\n",
    "        \"modelName\":f\"saadet_doga_hascelik__salaryRegModel5Fit\",\n",
    "        \"version\":\"1.0.1\",\n",
    "        \"params\": salaryRegModel5Fit.params.to_dict(),\n",
    "        \"score\": float(salaryRegModel5Fit.rsquared),\n",
    "        \"modelLibraray\": 'sm.OLS',\n",
    "        \"libraryMetadata\": {\n",
    "            \"pvalues\": salaryRegModel5Fit.pvalues.to_dict(),\n",
    "            \"r_squared\": float(salaryRegModel5Fit.rsquared),\n",
    "            \"adj_r_squared\": float(salaryRegModel5Fit.rsquared_adj)\n",
    "        },\n",
    "    \n",
    "        \"sampleData\": {\n",
    "            \"dataForTransfer\": salaryRegModel1SampleData\n",
    "        }\n",
    "    }\n",
    ")"
   ]
  },
  {
   "cell_type": "markdown",
   "id": "e15ca44d-4460-4bac-acdf-5465122e3f36",
   "metadata": {},
   "source": [
    "## AFTER AREFULLY LOOKUP WE RELIZED  salaryRegModel2Fit SO LETS KEEP IT AS THE BEST"
   ]
  },
  {
   "cell_type": "code",
   "execution_count": null,
   "id": "75f1bf7a-f316-4d48-996a-d6d94b4fddfd",
   "metadata": {},
   "outputs": [],
   "source": [
    "compareDf = pd.read_csv('./salaryRegModelsComparison.csv')"
   ]
  },
  {
   "cell_type": "code",
   "execution_count": null,
   "id": "e2bd268e-b80b-4ed2-9bb0-90a03e439228",
   "metadata": {},
   "outputs": [],
   "source": [
    "compareDf"
   ]
  },
  {
   "cell_type": "code",
   "execution_count": null,
   "id": "66a87a71-f543-455e-8018-c48b7c7b49e8",
   "metadata": {},
   "outputs": [],
   "source": [
    "registerAJrjModel(\n",
    "    salaryRegModel2Fit,\n",
    "    {\n",
    "        \"modelName\":f\"saadet_doga_hascelik__salaryRegModelBEST\",\n",
    "        \"version\":\"1.0.1\",\n",
    "        \"params\": salaryRegModel2Fit.params.to_dict(),\n",
    "        \"score\": float(salaryRegModel2Fit.rsquared),\n",
    "        \"modelLibraray\": 'sm.OLS',\n",
    "        \"libraryMetadata\": {\n",
    "            \"pvalues\": salaryRegModel2Fit.pvalues.to_dict(),\n",
    "            \"r_squared\": float(salaryRegModel2Fit.rsquared),\n",
    "            \"adj_r_squared\": float(salaryRegModel2Fit.rsquared_adj)\n",
    "        },\n",
    "    \n",
    "        \"sampleData\": {\n",
    "            \"dataForTransfer\": salaryRegModel1SampleData\n",
    "        }\n",
    "    }\n",
    ")"
   ]
  },
  {
   "cell_type": "code",
   "execution_count": null,
   "id": "ef1f13f9-1a0b-4928-8c2b-457e5f5d1119",
   "metadata": {},
   "outputs": [],
   "source": []
  }
 ],
 "metadata": {
  "kernelspec": {
   "display_name": "Python [conda env:base] *",
   "language": "python",
   "name": "conda-base-py"
  },
  "language_info": {
   "codemirror_mode": {
    "name": "ipython",
    "version": 3
   },
   "file_extension": ".py",
   "mimetype": "text/x-python",
   "name": "python",
   "nbconvert_exporter": "python",
   "pygments_lexer": "ipython3",
   "version": "3.12.7"
  }
 },
 "nbformat": 4,
 "nbformat_minor": 5
}
